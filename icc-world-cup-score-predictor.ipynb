{
 "cells": [
  {
   "cell_type": "markdown",
   "id": "cfb583ea",
   "metadata": {
    "id": "mVEc3zejHSet",
    "papermill": {
     "duration": 0.015017,
     "end_time": "2023-11-27T11:29:27.240771",
     "exception": false,
     "start_time": "2023-11-27T11:29:27.225754",
     "status": "completed"
    },
    "tags": []
   },
   "source": [
    "# **ICC World Cup Score Prediction using Machine Learning**\n",
    "\n",
    "This Machine Learning model adapts a Regression Approach to predict the score of the First Inning of an ICC World Cup Match."
   ]
  },
  {
   "cell_type": "markdown",
   "id": "bff0b0fb",
   "metadata": {
    "id": "IOB5mPqUHdhQ",
    "papermill": {
     "duration": 0.01404,
     "end_time": "2023-11-27T11:29:27.269393",
     "exception": false,
     "start_time": "2023-11-27T11:29:27.255353",
     "status": "completed"
    },
    "tags": []
   },
   "source": [
    "## **1. Import Necessary Libraries**\n",
    "\n",
    " - **Pandas:** Pandas is a data manipulation library providing data structures like DataFrames for efficient analysis.\n",
    "\n",
    " - **Numpy:** NumPy is a fundamental library for scientific computing, offering support for large arrays and mathematical functions.\n",
    "\n",
    " - **Seaborn:** Seaborn is a statistical data visualization library that simplifies creating informative and appealing graphics.\n",
    "\n",
    " - **Matplotlib:** Matplotlib is a versatile 2D plotting library for Python, allowing the creation of a wide range of static, interactive, and animated plots."
   ]
  },
  {
   "cell_type": "code",
   "execution_count": 1,
   "id": "18acada0",
   "metadata": {
    "execution": {
     "iopub.execute_input": "2023-11-27T11:29:27.303198Z",
     "iopub.status.busy": "2023-11-27T11:29:27.302068Z",
     "iopub.status.idle": "2023-11-27T11:29:29.620075Z",
     "shell.execute_reply": "2023-11-27T11:29:29.618665Z"
    },
    "id": "bd695983-179a-4676-ad96-dbcf69f6ca2c",
    "papermill": {
     "duration": 2.337406,
     "end_time": "2023-11-27T11:29:29.623181",
     "exception": false,
     "start_time": "2023-11-27T11:29:27.285775",
     "status": "completed"
    },
    "tags": []
   },
   "outputs": [],
   "source": [
    "import pandas as pd\n",
    "import numpy as np\n",
    "import seaborn as sns\n",
    "import matplotlib.pyplot as plt"
   ]
  },
  {
   "cell_type": "markdown",
   "id": "bfd4439d",
   "metadata": {
    "id": "vxcVBq1qHjDd",
    "papermill": {
     "duration": 0.013768,
     "end_time": "2023-11-27T11:29:29.651196",
     "exception": false,
     "start_time": "2023-11-27T11:29:29.637428",
     "status": "completed"
    },
    "tags": []
   },
   "source": [
    "## **2. Load the dataset**\n",
    "> Load the ball by ball analysis dataset of ICC World Cup Cricket Matches using **Pandas `read_csv`** function."
   ]
  },
  {
   "cell_type": "code",
   "execution_count": 2,
   "id": "3bf79d5e",
   "metadata": {
    "execution": {
     "iopub.execute_input": "2023-11-27T11:29:29.683208Z",
     "iopub.status.busy": "2023-11-27T11:29:29.682200Z",
     "iopub.status.idle": "2023-11-27T11:29:36.033133Z",
     "shell.execute_reply": "2023-11-27T11:29:36.031678Z"
    },
    "id": "f02b8a95-142a-48fd-801b-52883db20ad8",
    "outputId": "3f6ae2ec-fc89-47db-902c-2fb2dc60e1d2",
    "papermill": {
     "duration": 6.371113,
     "end_time": "2023-11-27T11:29:36.036359",
     "exception": false,
     "start_time": "2023-11-27T11:29:29.665246",
     "status": "completed"
    },
    "tags": []
   },
   "outputs": [
    {
     "name": "stdout",
     "output_type": "stream",
     "text": [
      "Dataset successfully Imported of Shape : (1265103, 23)\n"
     ]
    }
   ],
   "source": [
    "world_df = pd.read_csv('/kaggle/input/odi-mens-cricket-match-data-2002-2023/ODI_Match_Data.csv', low_memory=False)\n",
    "print(f\"Dataset successfully Imported of Shape : {world_df.shape}\")"
   ]
  },
  {
   "cell_type": "markdown",
   "id": "4ebc2cff",
   "metadata": {
    "id": "DyNxxAvoHySd",
    "papermill": {
     "duration": 0.01422,
     "end_time": "2023-11-27T11:29:36.065332",
     "exception": false,
     "start_time": "2023-11-27T11:29:36.051112",
     "status": "completed"
    },
    "tags": []
   },
   "source": [
    "## **3. Exploratory Data Analysis**\n",
    "> Let's First analyze the dataset to fiind out which dataset features can be usefull in predicting the scores and which can be modified to be helpfull."
   ]
  },
  {
   "cell_type": "code",
   "execution_count": 3,
   "id": "41203733",
   "metadata": {
    "execution": {
     "iopub.execute_input": "2023-11-27T11:29:36.097368Z",
     "iopub.status.busy": "2023-11-27T11:29:36.096509Z",
     "iopub.status.idle": "2023-11-27T11:29:36.144005Z",
     "shell.execute_reply": "2023-11-27T11:29:36.142641Z"
    },
    "id": "81bd268a-9325-432f-b423-8e9e3b0b1239",
    "outputId": "d6aadb11-a409-42b6-b7eb-0649a94542ce",
    "papermill": {
     "duration": 0.066836,
     "end_time": "2023-11-27T11:29:36.146713",
     "exception": false,
     "start_time": "2023-11-27T11:29:36.079877",
     "status": "completed"
    },
    "tags": []
   },
   "outputs": [
    {
     "data": {
      "text/html": [
       "<div>\n",
       "<style scoped>\n",
       "    .dataframe tbody tr th:only-of-type {\n",
       "        vertical-align: middle;\n",
       "    }\n",
       "\n",
       "    .dataframe tbody tr th {\n",
       "        vertical-align: top;\n",
       "    }\n",
       "\n",
       "    .dataframe thead th {\n",
       "        text-align: right;\n",
       "    }\n",
       "</style>\n",
       "<table border=\"1\" class=\"dataframe\">\n",
       "  <thead>\n",
       "    <tr style=\"text-align: right;\">\n",
       "      <th></th>\n",
       "      <th>match_id</th>\n",
       "      <th>season</th>\n",
       "      <th>start_date</th>\n",
       "      <th>venue</th>\n",
       "      <th>innings</th>\n",
       "      <th>ball</th>\n",
       "      <th>batting_team</th>\n",
       "      <th>bowling_team</th>\n",
       "      <th>striker</th>\n",
       "      <th>non_striker</th>\n",
       "      <th>...</th>\n",
       "      <th>wides</th>\n",
       "      <th>noballs</th>\n",
       "      <th>byes</th>\n",
       "      <th>legbyes</th>\n",
       "      <th>penalty</th>\n",
       "      <th>wicket_type</th>\n",
       "      <th>player_dismissed</th>\n",
       "      <th>other_wicket_type</th>\n",
       "      <th>other_player_dismissed</th>\n",
       "      <th>cricsheet_id</th>\n",
       "    </tr>\n",
       "  </thead>\n",
       "  <tbody>\n",
       "    <tr>\n",
       "      <th>0</th>\n",
       "      <td>1389389</td>\n",
       "      <td>2023/24</td>\n",
       "      <td>2023-09-24</td>\n",
       "      <td>Holkar Cricket Stadium, Indore</td>\n",
       "      <td>1</td>\n",
       "      <td>0.1</td>\n",
       "      <td>India</td>\n",
       "      <td>Australia</td>\n",
       "      <td>RD Gaikwad</td>\n",
       "      <td>Shubman Gill</td>\n",
       "      <td>...</td>\n",
       "      <td>NaN</td>\n",
       "      <td>NaN</td>\n",
       "      <td>NaN</td>\n",
       "      <td>NaN</td>\n",
       "      <td>NaN</td>\n",
       "      <td>NaN</td>\n",
       "      <td>NaN</td>\n",
       "      <td>NaN</td>\n",
       "      <td>NaN</td>\n",
       "      <td>1389389</td>\n",
       "    </tr>\n",
       "    <tr>\n",
       "      <th>1</th>\n",
       "      <td>1389389</td>\n",
       "      <td>2023/24</td>\n",
       "      <td>2023-09-24</td>\n",
       "      <td>Holkar Cricket Stadium, Indore</td>\n",
       "      <td>1</td>\n",
       "      <td>0.2</td>\n",
       "      <td>India</td>\n",
       "      <td>Australia</td>\n",
       "      <td>RD Gaikwad</td>\n",
       "      <td>Shubman Gill</td>\n",
       "      <td>...</td>\n",
       "      <td>NaN</td>\n",
       "      <td>NaN</td>\n",
       "      <td>NaN</td>\n",
       "      <td>NaN</td>\n",
       "      <td>NaN</td>\n",
       "      <td>NaN</td>\n",
       "      <td>NaN</td>\n",
       "      <td>NaN</td>\n",
       "      <td>NaN</td>\n",
       "      <td>1389389</td>\n",
       "    </tr>\n",
       "    <tr>\n",
       "      <th>2</th>\n",
       "      <td>1389389</td>\n",
       "      <td>2023/24</td>\n",
       "      <td>2023-09-24</td>\n",
       "      <td>Holkar Cricket Stadium, Indore</td>\n",
       "      <td>1</td>\n",
       "      <td>0.3</td>\n",
       "      <td>India</td>\n",
       "      <td>Australia</td>\n",
       "      <td>RD Gaikwad</td>\n",
       "      <td>Shubman Gill</td>\n",
       "      <td>...</td>\n",
       "      <td>NaN</td>\n",
       "      <td>NaN</td>\n",
       "      <td>NaN</td>\n",
       "      <td>NaN</td>\n",
       "      <td>NaN</td>\n",
       "      <td>NaN</td>\n",
       "      <td>NaN</td>\n",
       "      <td>NaN</td>\n",
       "      <td>NaN</td>\n",
       "      <td>1389389</td>\n",
       "    </tr>\n",
       "    <tr>\n",
       "      <th>3</th>\n",
       "      <td>1389389</td>\n",
       "      <td>2023/24</td>\n",
       "      <td>2023-09-24</td>\n",
       "      <td>Holkar Cricket Stadium, Indore</td>\n",
       "      <td>1</td>\n",
       "      <td>0.4</td>\n",
       "      <td>India</td>\n",
       "      <td>Australia</td>\n",
       "      <td>RD Gaikwad</td>\n",
       "      <td>Shubman Gill</td>\n",
       "      <td>...</td>\n",
       "      <td>NaN</td>\n",
       "      <td>NaN</td>\n",
       "      <td>NaN</td>\n",
       "      <td>NaN</td>\n",
       "      <td>NaN</td>\n",
       "      <td>NaN</td>\n",
       "      <td>NaN</td>\n",
       "      <td>NaN</td>\n",
       "      <td>NaN</td>\n",
       "      <td>1389389</td>\n",
       "    </tr>\n",
       "    <tr>\n",
       "      <th>4</th>\n",
       "      <td>1389389</td>\n",
       "      <td>2023/24</td>\n",
       "      <td>2023-09-24</td>\n",
       "      <td>Holkar Cricket Stadium, Indore</td>\n",
       "      <td>1</td>\n",
       "      <td>0.5</td>\n",
       "      <td>India</td>\n",
       "      <td>Australia</td>\n",
       "      <td>RD Gaikwad</td>\n",
       "      <td>Shubman Gill</td>\n",
       "      <td>...</td>\n",
       "      <td>NaN</td>\n",
       "      <td>NaN</td>\n",
       "      <td>NaN</td>\n",
       "      <td>NaN</td>\n",
       "      <td>NaN</td>\n",
       "      <td>NaN</td>\n",
       "      <td>NaN</td>\n",
       "      <td>NaN</td>\n",
       "      <td>NaN</td>\n",
       "      <td>1389389</td>\n",
       "    </tr>\n",
       "  </tbody>\n",
       "</table>\n",
       "<p>5 rows × 23 columns</p>\n",
       "</div>"
      ],
      "text/plain": [
       "   match_id   season  start_date                           venue  innings  \\\n",
       "0   1389389  2023/24  2023-09-24  Holkar Cricket Stadium, Indore        1   \n",
       "1   1389389  2023/24  2023-09-24  Holkar Cricket Stadium, Indore        1   \n",
       "2   1389389  2023/24  2023-09-24  Holkar Cricket Stadium, Indore        1   \n",
       "3   1389389  2023/24  2023-09-24  Holkar Cricket Stadium, Indore        1   \n",
       "4   1389389  2023/24  2023-09-24  Holkar Cricket Stadium, Indore        1   \n",
       "\n",
       "   ball batting_team bowling_team     striker   non_striker  ... wides  \\\n",
       "0   0.1        India    Australia  RD Gaikwad  Shubman Gill  ...   NaN   \n",
       "1   0.2        India    Australia  RD Gaikwad  Shubman Gill  ...   NaN   \n",
       "2   0.3        India    Australia  RD Gaikwad  Shubman Gill  ...   NaN   \n",
       "3   0.4        India    Australia  RD Gaikwad  Shubman Gill  ...   NaN   \n",
       "4   0.5        India    Australia  RD Gaikwad  Shubman Gill  ...   NaN   \n",
       "\n",
       "   noballs  byes  legbyes  penalty  wicket_type  player_dismissed  \\\n",
       "0      NaN   NaN      NaN      NaN          NaN               NaN   \n",
       "1      NaN   NaN      NaN      NaN          NaN               NaN   \n",
       "2      NaN   NaN      NaN      NaN          NaN               NaN   \n",
       "3      NaN   NaN      NaN      NaN          NaN               NaN   \n",
       "4      NaN   NaN      NaN      NaN          NaN               NaN   \n",
       "\n",
       "   other_wicket_type other_player_dismissed cricsheet_id  \n",
       "0                NaN                    NaN      1389389  \n",
       "1                NaN                    NaN      1389389  \n",
       "2                NaN                    NaN      1389389  \n",
       "3                NaN                    NaN      1389389  \n",
       "4                NaN                    NaN      1389389  \n",
       "\n",
       "[5 rows x 23 columns]"
      ]
     },
     "execution_count": 3,
     "metadata": {},
     "output_type": "execute_result"
    }
   ],
   "source": [
    "# First 5 Columns Data\n",
    "world_df.head()"
   ]
  },
  {
   "cell_type": "code",
   "execution_count": 4,
   "id": "d4eab279",
   "metadata": {
    "execution": {
     "iopub.execute_input": "2023-11-27T11:29:36.178697Z",
     "iopub.status.busy": "2023-11-27T11:29:36.178200Z",
     "iopub.status.idle": "2023-11-27T11:29:36.731698Z",
     "shell.execute_reply": "2023-11-27T11:29:36.730518Z"
    },
    "id": "NERzaV86IdfF",
    "papermill": {
     "duration": 0.572249,
     "end_time": "2023-11-27T11:29:36.734042",
     "exception": false,
     "start_time": "2023-11-27T11:29:36.161793",
     "status": "completed"
    },
    "tags": []
   },
   "outputs": [
    {
     "data": {
      "text/html": [
       "<div>\n",
       "<style scoped>\n",
       "    .dataframe tbody tr th:only-of-type {\n",
       "        vertical-align: middle;\n",
       "    }\n",
       "\n",
       "    .dataframe tbody tr th {\n",
       "        vertical-align: top;\n",
       "    }\n",
       "\n",
       "    .dataframe thead th {\n",
       "        text-align: right;\n",
       "    }\n",
       "</style>\n",
       "<table border=\"1\" class=\"dataframe\">\n",
       "  <thead>\n",
       "    <tr style=\"text-align: right;\">\n",
       "      <th></th>\n",
       "      <th>match_id</th>\n",
       "      <th>innings</th>\n",
       "      <th>ball</th>\n",
       "      <th>runs_off_bat</th>\n",
       "      <th>extras</th>\n",
       "      <th>wides</th>\n",
       "      <th>noballs</th>\n",
       "      <th>byes</th>\n",
       "      <th>legbyes</th>\n",
       "      <th>penalty</th>\n",
       "      <th>other_wicket_type</th>\n",
       "      <th>other_player_dismissed</th>\n",
       "      <th>cricsheet_id</th>\n",
       "    </tr>\n",
       "  </thead>\n",
       "  <tbody>\n",
       "    <tr>\n",
       "      <th>count</th>\n",
       "      <td>1.265103e+06</td>\n",
       "      <td>1.265103e+06</td>\n",
       "      <td>1.265103e+06</td>\n",
       "      <td>1.265103e+06</td>\n",
       "      <td>1.265103e+06</td>\n",
       "      <td>28990.000000</td>\n",
       "      <td>5058.000000</td>\n",
       "      <td>1962.000000</td>\n",
       "      <td>12903.000000</td>\n",
       "      <td>18.0</td>\n",
       "      <td>0.0</td>\n",
       "      <td>0.0</td>\n",
       "      <td>1.265103e+06</td>\n",
       "    </tr>\n",
       "    <tr>\n",
       "      <th>mean</th>\n",
       "      <td>7.121242e+05</td>\n",
       "      <td>1.456583e+00</td>\n",
       "      <td>2.265861e+01</td>\n",
       "      <td>7.895112e-01</td>\n",
       "      <td>4.896281e-02</td>\n",
       "      <td>1.204208</td>\n",
       "      <td>1.036576</td>\n",
       "      <td>2.056575</td>\n",
       "      <td>1.369061</td>\n",
       "      <td>5.0</td>\n",
       "      <td>NaN</td>\n",
       "      <td>NaN</td>\n",
       "      <td>7.121242e+05</td>\n",
       "    </tr>\n",
       "    <tr>\n",
       "      <th>std</th>\n",
       "      <td>4.282254e+05</td>\n",
       "      <td>4.982083e-01</td>\n",
       "      <td>1.382100e+01</td>\n",
       "      <td>1.255689e+00</td>\n",
       "      <td>2.944322e-01</td>\n",
       "      <td>0.792682</td>\n",
       "      <td>0.320740</td>\n",
       "      <td>1.313392</td>\n",
       "      <td>0.884183</td>\n",
       "      <td>0.0</td>\n",
       "      <td>NaN</td>\n",
       "      <td>NaN</td>\n",
       "      <td>4.282254e+05</td>\n",
       "    </tr>\n",
       "    <tr>\n",
       "      <th>min</th>\n",
       "      <td>6.481400e+04</td>\n",
       "      <td>1.000000e+00</td>\n",
       "      <td>1.000000e-01</td>\n",
       "      <td>0.000000e+00</td>\n",
       "      <td>0.000000e+00</td>\n",
       "      <td>1.000000</td>\n",
       "      <td>1.000000</td>\n",
       "      <td>1.000000</td>\n",
       "      <td>1.000000</td>\n",
       "      <td>5.0</td>\n",
       "      <td>NaN</td>\n",
       "      <td>NaN</td>\n",
       "      <td>6.481400e+04</td>\n",
       "    </tr>\n",
       "    <tr>\n",
       "      <th>25%</th>\n",
       "      <td>3.353520e+05</td>\n",
       "      <td>1.000000e+00</td>\n",
       "      <td>1.060000e+01</td>\n",
       "      <td>0.000000e+00</td>\n",
       "      <td>0.000000e+00</td>\n",
       "      <td>1.000000</td>\n",
       "      <td>1.000000</td>\n",
       "      <td>1.000000</td>\n",
       "      <td>1.000000</td>\n",
       "      <td>5.0</td>\n",
       "      <td>NaN</td>\n",
       "      <td>NaN</td>\n",
       "      <td>3.353520e+05</td>\n",
       "    </tr>\n",
       "    <tr>\n",
       "      <th>50%</th>\n",
       "      <td>6.490990e+05</td>\n",
       "      <td>1.000000e+00</td>\n",
       "      <td>2.210000e+01</td>\n",
       "      <td>0.000000e+00</td>\n",
       "      <td>0.000000e+00</td>\n",
       "      <td>1.000000</td>\n",
       "      <td>1.000000</td>\n",
       "      <td>1.000000</td>\n",
       "      <td>1.000000</td>\n",
       "      <td>5.0</td>\n",
       "      <td>NaN</td>\n",
       "      <td>NaN</td>\n",
       "      <td>6.490990e+05</td>\n",
       "    </tr>\n",
       "    <tr>\n",
       "      <th>75%</th>\n",
       "      <td>1.144494e+06</td>\n",
       "      <td>2.000000e+00</td>\n",
       "      <td>3.420000e+01</td>\n",
       "      <td>1.000000e+00</td>\n",
       "      <td>0.000000e+00</td>\n",
       "      <td>1.000000</td>\n",
       "      <td>1.000000</td>\n",
       "      <td>4.000000</td>\n",
       "      <td>1.000000</td>\n",
       "      <td>5.0</td>\n",
       "      <td>NaN</td>\n",
       "      <td>NaN</td>\n",
       "      <td>1.144494e+06</td>\n",
       "    </tr>\n",
       "    <tr>\n",
       "      <th>max</th>\n",
       "      <td>1.395701e+06</td>\n",
       "      <td>4.000000e+00</td>\n",
       "      <td>4.990000e+01</td>\n",
       "      <td>7.000000e+00</td>\n",
       "      <td>6.000000e+00</td>\n",
       "      <td>5.000000</td>\n",
       "      <td>5.000000</td>\n",
       "      <td>4.000000</td>\n",
       "      <td>5.000000</td>\n",
       "      <td>5.0</td>\n",
       "      <td>NaN</td>\n",
       "      <td>NaN</td>\n",
       "      <td>1.395701e+06</td>\n",
       "    </tr>\n",
       "  </tbody>\n",
       "</table>\n",
       "</div>"
      ],
      "text/plain": [
       "           match_id       innings          ball  runs_off_bat        extras  \\\n",
       "count  1.265103e+06  1.265103e+06  1.265103e+06  1.265103e+06  1.265103e+06   \n",
       "mean   7.121242e+05  1.456583e+00  2.265861e+01  7.895112e-01  4.896281e-02   \n",
       "std    4.282254e+05  4.982083e-01  1.382100e+01  1.255689e+00  2.944322e-01   \n",
       "min    6.481400e+04  1.000000e+00  1.000000e-01  0.000000e+00  0.000000e+00   \n",
       "25%    3.353520e+05  1.000000e+00  1.060000e+01  0.000000e+00  0.000000e+00   \n",
       "50%    6.490990e+05  1.000000e+00  2.210000e+01  0.000000e+00  0.000000e+00   \n",
       "75%    1.144494e+06  2.000000e+00  3.420000e+01  1.000000e+00  0.000000e+00   \n",
       "max    1.395701e+06  4.000000e+00  4.990000e+01  7.000000e+00  6.000000e+00   \n",
       "\n",
       "              wides      noballs         byes       legbyes  penalty  \\\n",
       "count  28990.000000  5058.000000  1962.000000  12903.000000     18.0   \n",
       "mean       1.204208     1.036576     2.056575      1.369061      5.0   \n",
       "std        0.792682     0.320740     1.313392      0.884183      0.0   \n",
       "min        1.000000     1.000000     1.000000      1.000000      5.0   \n",
       "25%        1.000000     1.000000     1.000000      1.000000      5.0   \n",
       "50%        1.000000     1.000000     1.000000      1.000000      5.0   \n",
       "75%        1.000000     1.000000     4.000000      1.000000      5.0   \n",
       "max        5.000000     5.000000     4.000000      5.000000      5.0   \n",
       "\n",
       "       other_wicket_type  other_player_dismissed  cricsheet_id  \n",
       "count                0.0                     0.0  1.265103e+06  \n",
       "mean                 NaN                     NaN  7.121242e+05  \n",
       "std                  NaN                     NaN  4.282254e+05  \n",
       "min                  NaN                     NaN  6.481400e+04  \n",
       "25%                  NaN                     NaN  3.353520e+05  \n",
       "50%                  NaN                     NaN  6.490990e+05  \n",
       "75%                  NaN                     NaN  1.144494e+06  \n",
       "max                  NaN                     NaN  1.395701e+06  "
      ]
     },
     "execution_count": 4,
     "metadata": {},
     "output_type": "execute_result"
    }
   ],
   "source": [
    "# Describing the t20i_dfset\n",
    "world_df.describe()"
   ]
  },
  {
   "cell_type": "code",
   "execution_count": 5,
   "id": "ca9965b5",
   "metadata": {
    "execution": {
     "iopub.execute_input": "2023-11-27T11:29:36.765460Z",
     "iopub.status.busy": "2023-11-27T11:29:36.765091Z",
     "iopub.status.idle": "2023-11-27T11:29:37.331242Z",
     "shell.execute_reply": "2023-11-27T11:29:37.330404Z"
    },
    "id": "54f80717-07cb-4539-ae4e-67dcfacbba10",
    "outputId": "da064d13-ca8a-409b-ee3f-6448406c2617",
    "papermill": {
     "duration": 0.5842,
     "end_time": "2023-11-27T11:29:37.333221",
     "exception": false,
     "start_time": "2023-11-27T11:29:36.749021",
     "status": "completed"
    },
    "tags": []
   },
   "outputs": [
    {
     "name": "stdout",
     "output_type": "stream",
     "text": [
      "<class 'pandas.core.frame.DataFrame'>\n",
      "RangeIndex: 1265103 entries, 0 to 1265102\n",
      "Data columns (total 23 columns):\n",
      " #   Column                  Non-Null Count    Dtype  \n",
      "---  ------                  --------------    -----  \n",
      " 0   match_id                1265103 non-null  int64  \n",
      " 1   season                  1265103 non-null  object \n",
      " 2   start_date              1265103 non-null  object \n",
      " 3   venue                   1265103 non-null  object \n",
      " 4   innings                 1265103 non-null  int64  \n",
      " 5   ball                    1265103 non-null  float64\n",
      " 6   batting_team            1265103 non-null  object \n",
      " 7   bowling_team            1265103 non-null  object \n",
      " 8   striker                 1265103 non-null  object \n",
      " 9   non_striker             1265103 non-null  object \n",
      " 10  bowler                  1265103 non-null  object \n",
      " 11  runs_off_bat            1265103 non-null  int64  \n",
      " 12  extras                  1265103 non-null  int64  \n",
      " 13  wides                   28990 non-null    float64\n",
      " 14  noballs                 5058 non-null     float64\n",
      " 15  byes                    1962 non-null     float64\n",
      " 16  legbyes                 12903 non-null    float64\n",
      " 17  penalty                 18 non-null       float64\n",
      " 18  wicket_type             34474 non-null    object \n",
      " 19  player_dismissed        34474 non-null    object \n",
      " 20  other_wicket_type       0 non-null        float64\n",
      " 21  other_player_dismissed  0 non-null        float64\n",
      " 22  cricsheet_id            1265103 non-null  int64  \n",
      "dtypes: float64(8), int64(5), object(10)\n",
      "memory usage: 222.0+ MB\n"
     ]
    }
   ],
   "source": [
    "# Information about Each Column\n",
    "world_df.info()"
   ]
  },
  {
   "cell_type": "code",
   "execution_count": 6,
   "id": "58500e8f",
   "metadata": {
    "execution": {
     "iopub.execute_input": "2023-11-27T11:29:37.364199Z",
     "iopub.status.busy": "2023-11-27T11:29:37.363290Z",
     "iopub.status.idle": "2023-11-27T11:29:38.182406Z",
     "shell.execute_reply": "2023-11-27T11:29:38.181310Z"
    },
    "id": "90f8998a-45b4-4c9d-aea2-5f61b73ac820",
    "outputId": "51c8d5bd-6558-4e17-b27f-e775fc105e8e",
    "papermill": {
     "duration": 0.836915,
     "end_time": "2023-11-27T11:29:38.184690",
     "exception": false,
     "start_time": "2023-11-27T11:29:37.347775",
     "status": "completed"
    },
    "tags": []
   },
   "outputs": [
    {
     "data": {
      "text/plain": [
       "match_id                  2379\n",
       "season                      43\n",
       "start_date                2012\n",
       "venue                      293\n",
       "innings                      4\n",
       "ball                       475\n",
       "batting_team                28\n",
       "bowling_team                28\n",
       "striker                   1741\n",
       "non_striker               1730\n",
       "bowler                    1342\n",
       "runs_off_bat                 8\n",
       "extras                       7\n",
       "wides                        5\n",
       "noballs                      5\n",
       "byes                         4\n",
       "legbyes                      5\n",
       "penalty                      1\n",
       "wicket_type                  9\n",
       "player_dismissed          1661\n",
       "other_wicket_type            0\n",
       "other_player_dismissed       0\n",
       "cricsheet_id              2379\n",
       "dtype: int64"
      ]
     },
     "execution_count": 6,
     "metadata": {},
     "output_type": "execute_result"
    }
   ],
   "source": [
    "# Number of Unique Values in each column\n",
    "world_df.nunique()"
   ]
  },
  {
   "cell_type": "code",
   "execution_count": 7,
   "id": "69d1aed4",
   "metadata": {
    "execution": {
     "iopub.execute_input": "2023-11-27T11:29:38.216825Z",
     "iopub.status.busy": "2023-11-27T11:29:38.216446Z",
     "iopub.status.idle": "2023-11-27T11:29:38.225238Z",
     "shell.execute_reply": "2023-11-27T11:29:38.224281Z"
    },
    "id": "yJ8Gy5IMIuHH",
    "papermill": {
     "duration": 0.02728,
     "end_time": "2023-11-27T11:29:38.227372",
     "exception": false,
     "start_time": "2023-11-27T11:29:38.200092",
     "status": "completed"
    },
    "tags": []
   },
   "outputs": [
    {
     "data": {
      "text/plain": [
       "match_id                    int64\n",
       "season                     object\n",
       "start_date                 object\n",
       "venue                      object\n",
       "innings                     int64\n",
       "ball                      float64\n",
       "batting_team               object\n",
       "bowling_team               object\n",
       "striker                    object\n",
       "non_striker                object\n",
       "bowler                     object\n",
       "runs_off_bat                int64\n",
       "extras                      int64\n",
       "wides                     float64\n",
       "noballs                   float64\n",
       "byes                      float64\n",
       "legbyes                   float64\n",
       "penalty                   float64\n",
       "wicket_type                object\n",
       "player_dismissed           object\n",
       "other_wicket_type         float64\n",
       "other_player_dismissed    float64\n",
       "cricsheet_id                int64\n",
       "dtype: object"
      ]
     },
     "execution_count": 7,
     "metadata": {},
     "output_type": "execute_result"
    }
   ],
   "source": [
    "# world_df types of all Columns\n",
    "world_df.dtypes"
   ]
  },
  {
   "cell_type": "markdown",
   "id": "36206b31",
   "metadata": {
    "id": "8xC-WsVKIzcq",
    "papermill": {
     "duration": 0.014563,
     "end_time": "2023-11-27T11:29:38.317034",
     "exception": false,
     "start_time": "2023-11-27T11:29:38.302471",
     "status": "completed"
    },
    "tags": []
   },
   "source": [
    "## **4. Data Cleaning & Feature Engineering**\n",
    "The Data needs to be cleaned before training the model on it.\n",
    "> For predicting the Scores accurately, I consider the following features:\n",
    "  - Batting Team (batting_team)\n",
    "  - Bowling Team (bowling_team)\n",
    "  - Runs each ball (runs_off_bat & extras)\n",
    "  - Wickets each ball (wicket_type)\n",
    "  - Overs (overs)\n",
    "\n",
    "> Along with these, in order to increase the accuracy of prediction over the complete match and introduce non-linearity in the dataset, the following features are computed and used for training the model:\n",
    "  - Innings Runs (Inning_runs)\n",
    "  - Innings Wicket (Innings_wicket)\n",
    "  - Total Score (total_score)\n",
    "  - Runs Last 5 Overs (runs_last_5_overs)\n",
    "  - Wickets Last 5 Overs (wickets_last_5_overs)"
   ]
  },
  {
   "cell_type": "markdown",
   "id": "e2cb3ef8",
   "metadata": {
    "id": "mBMbRUEuKWyA",
    "papermill": {
     "duration": 0.014963,
     "end_time": "2023-11-27T11:29:38.347755",
     "exception": false,
     "start_time": "2023-11-27T11:29:38.332792",
     "status": "completed"
    },
    "tags": []
   },
   "source": [
    "### **4.1. Computing Innings Runs (Total runs ball by ball cumulative per innings)**"
   ]
  },
  {
   "cell_type": "code",
   "execution_count": 8,
   "id": "0cd2718e",
   "metadata": {
    "execution": {
     "iopub.execute_input": "2023-11-27T11:29:38.380067Z",
     "iopub.status.busy": "2023-11-27T11:29:38.379396Z",
     "iopub.status.idle": "2023-11-27T11:29:38.534448Z",
     "shell.execute_reply": "2023-11-27T11:29:38.533283Z"
    },
    "id": "b889da16-2960-4cf4-aca7-212b15579478",
    "papermill": {
     "duration": 0.174549,
     "end_time": "2023-11-27T11:29:38.537404",
     "exception": false,
     "start_time": "2023-11-27T11:29:38.362855",
     "status": "completed"
    },
    "tags": []
   },
   "outputs": [],
   "source": [
    "# Adding the total runs and extras till now\n",
    "world_df['innings_runs'] = world_df.groupby(['match_id', 'innings'])['runs_off_bat'].cumsum() + world_df.groupby(['match_id', 'innings'])['extras'].cumsum()"
   ]
  },
  {
   "cell_type": "markdown",
   "id": "2488a548",
   "metadata": {
    "id": "1hN8NrFeK_W6",
    "papermill": {
     "duration": 0.015139,
     "end_time": "2023-11-27T11:29:38.568846",
     "exception": false,
     "start_time": "2023-11-27T11:29:38.553707",
     "status": "completed"
    },
    "tags": []
   },
   "source": [
    "### **4.2. Computing Innings Wickets (Total wickets ball by ball cumulative per innings)**"
   ]
  },
  {
   "cell_type": "code",
   "execution_count": 9,
   "id": "4b80af4d",
   "metadata": {
    "execution": {
     "iopub.execute_input": "2023-11-27T11:29:38.601287Z",
     "iopub.status.busy": "2023-11-27T11:29:38.600551Z",
     "iopub.status.idle": "2023-11-27T11:29:56.630497Z",
     "shell.execute_reply": "2023-11-27T11:29:56.629577Z"
    },
    "id": "0vpaQ9KqKl_C",
    "papermill": {
     "duration": 18.049166,
     "end_time": "2023-11-27T11:29:56.633258",
     "exception": false,
     "start_time": "2023-11-27T11:29:38.584092",
     "status": "completed"
    },
    "tags": []
   },
   "outputs": [
    {
     "name": "stderr",
     "output_type": "stream",
     "text": [
      "/tmp/ipykernel_20/1796615762.py:7: SettingWithCopyWarning: \n",
      "A value is trying to be set on a copy of a slice from a DataFrame.\n",
      "Try using .loc[row_indexer,col_indexer] = value instead\n",
      "\n",
      "See the caveats in the documentation: https://pandas.pydata.org/pandas-docs/stable/user_guide/indexing.html#returning-a-view-versus-a-copy\n",
      "  imp['wicket_type'] = imp['wicket_type'].fillna(0)\n"
     ]
    }
   ],
   "source": [
    "# Computing inning wickets\n",
    "imp = world_df.iloc[:,[0,4,18]]\n",
    "imp.loc[:,'wicket_type'] = imp['wicket_type'].fillna(0)\n",
    "\n",
    "wicket_count_store=[]\n",
    "cnt=0\n",
    "imp['wicket_type'] = imp['wicket_type'].fillna(0)\n",
    "f=1\n",
    "for i in range(len(imp)):\n",
    "    if imp['innings'][i]!=f:\n",
    "        f=2\n",
    "        cnt=0\n",
    "    if imp['wicket_type'][i]!=0:\n",
    "        cnt+=1\n",
    "    wicket_count_store.append(cnt)\n",
    "world_df['Innings_wickets'] = wicket_count_store"
   ]
  },
  {
   "cell_type": "markdown",
   "id": "f3a47a98",
   "metadata": {
    "id": "XefDT40ULIVj",
    "papermill": {
     "duration": 0.014939,
     "end_time": "2023-11-27T11:29:56.663624",
     "exception": false,
     "start_time": "2023-11-27T11:29:56.648685",
     "status": "completed"
    },
    "tags": []
   },
   "source": [
    "### **4.3. Computing Total Score (Total score per innings)**"
   ]
  },
  {
   "cell_type": "code",
   "execution_count": 10,
   "id": "542e27f5",
   "metadata": {
    "execution": {
     "iopub.execute_input": "2023-11-27T11:29:56.711726Z",
     "iopub.status.busy": "2023-11-27T11:29:56.710961Z",
     "iopub.status.idle": "2023-11-27T11:29:56.797471Z",
     "shell.execute_reply": "2023-11-27T11:29:56.796479Z"
    },
    "id": "hzxXdOYzKnO6",
    "papermill": {
     "duration": 0.121105,
     "end_time": "2023-11-27T11:29:56.799934",
     "exception": false,
     "start_time": "2023-11-27T11:29:56.678829",
     "status": "completed"
    },
    "tags": []
   },
   "outputs": [],
   "source": [
    "# Getting the total score for each innings\n",
    "world_df['total_score'] = world_df.groupby(['match_id', 'innings'])['innings_runs'].transform('last').astype(int)"
   ]
  },
  {
   "cell_type": "markdown",
   "id": "00a1a620",
   "metadata": {
    "id": "7TbUSikmLgJj",
    "papermill": {
     "duration": 0.015046,
     "end_time": "2023-11-27T11:29:56.830641",
     "exception": false,
     "start_time": "2023-11-27T11:29:56.815595",
     "status": "completed"
    },
    "tags": []
   },
   "source": [
    "### **4.4. Computing Runs in last 5 overs & Wickets in last 5 overs**"
   ]
  },
  {
   "cell_type": "code",
   "execution_count": 11,
   "id": "84b9eaee",
   "metadata": {
    "execution": {
     "iopub.execute_input": "2023-11-27T11:29:56.862936Z",
     "iopub.status.busy": "2023-11-27T11:29:56.862577Z",
     "iopub.status.idle": "2023-11-27T11:35:10.560579Z",
     "shell.execute_reply": "2023-11-27T11:35:10.559426Z"
    },
    "id": "472aeab2-c372-4025-9921-6a43768da5c1",
    "papermill": {
     "duration": 313.717442,
     "end_time": "2023-11-27T11:35:10.563454",
     "exception": false,
     "start_time": "2023-11-27T11:29:56.846012",
     "status": "completed"
    },
    "tags": []
   },
   "outputs": [],
   "source": [
    "#Computing Runs in last 5 overs and Wickets in last 5 overs\n",
    "for index, row in world_df.iterrows():\n",
    "    if world_df['ball'][index] > 5.0:\n",
    "        world_df.at[index, 'runs_last_5_overs'] = world_df['innings_runs'][index] - world_df['innings_runs'][index-30]  # assign the value\n",
    "        world_df.at[index, 'wickets_last_5_overs'] = world_df['Innings_wickets'][index] - world_df['Innings_wickets'][index-30]  # assign the value\n",
    "    else:\n",
    "        world_df.at[index, 'runs_last_5_overs'] = world_df['innings_runs'][index]  # assign the value\n",
    "        world_df.at[index, 'wickets_last_5_overs'] = world_df['Innings_wickets'][index]  # assign the value"
   ]
  },
  {
   "cell_type": "code",
   "execution_count": 12,
   "id": "10def65c",
   "metadata": {
    "execution": {
     "iopub.execute_input": "2023-11-27T11:35:10.597916Z",
     "iopub.status.busy": "2023-11-27T11:35:10.597540Z",
     "iopub.status.idle": "2023-11-27T11:35:10.628428Z",
     "shell.execute_reply": "2023-11-27T11:35:10.627394Z"
    },
    "id": "7af9321a-8776-4b88-908d-c544619e56c1",
    "outputId": "9a115733-a1ac-4310-c9d4-c0253fb92990",
    "papermill": {
     "duration": 0.050507,
     "end_time": "2023-11-27T11:35:10.630671",
     "exception": false,
     "start_time": "2023-11-27T11:35:10.580164",
     "status": "completed"
    },
    "tags": []
   },
   "outputs": [
    {
     "data": {
      "text/html": [
       "<div>\n",
       "<style scoped>\n",
       "    .dataframe tbody tr th:only-of-type {\n",
       "        vertical-align: middle;\n",
       "    }\n",
       "\n",
       "    .dataframe tbody tr th {\n",
       "        vertical-align: top;\n",
       "    }\n",
       "\n",
       "    .dataframe thead th {\n",
       "        text-align: right;\n",
       "    }\n",
       "</style>\n",
       "<table border=\"1\" class=\"dataframe\">\n",
       "  <thead>\n",
       "    <tr style=\"text-align: right;\">\n",
       "      <th></th>\n",
       "      <th>match_id</th>\n",
       "      <th>season</th>\n",
       "      <th>start_date</th>\n",
       "      <th>venue</th>\n",
       "      <th>innings</th>\n",
       "      <th>ball</th>\n",
       "      <th>batting_team</th>\n",
       "      <th>bowling_team</th>\n",
       "      <th>striker</th>\n",
       "      <th>non_striker</th>\n",
       "      <th>...</th>\n",
       "      <th>wicket_type</th>\n",
       "      <th>player_dismissed</th>\n",
       "      <th>other_wicket_type</th>\n",
       "      <th>other_player_dismissed</th>\n",
       "      <th>cricsheet_id</th>\n",
       "      <th>innings_runs</th>\n",
       "      <th>Innings_wickets</th>\n",
       "      <th>total_score</th>\n",
       "      <th>runs_last_5_overs</th>\n",
       "      <th>wickets_last_5_overs</th>\n",
       "    </tr>\n",
       "  </thead>\n",
       "  <tbody>\n",
       "    <tr>\n",
       "      <th>0</th>\n",
       "      <td>1389389</td>\n",
       "      <td>2023/24</td>\n",
       "      <td>2023-09-24</td>\n",
       "      <td>Holkar Cricket Stadium, Indore</td>\n",
       "      <td>1</td>\n",
       "      <td>0.1</td>\n",
       "      <td>India</td>\n",
       "      <td>Australia</td>\n",
       "      <td>RD Gaikwad</td>\n",
       "      <td>Shubman Gill</td>\n",
       "      <td>...</td>\n",
       "      <td>NaN</td>\n",
       "      <td>NaN</td>\n",
       "      <td>NaN</td>\n",
       "      <td>NaN</td>\n",
       "      <td>1389389</td>\n",
       "      <td>4</td>\n",
       "      <td>0</td>\n",
       "      <td>399</td>\n",
       "      <td>4.0</td>\n",
       "      <td>0.0</td>\n",
       "    </tr>\n",
       "    <tr>\n",
       "      <th>1</th>\n",
       "      <td>1389389</td>\n",
       "      <td>2023/24</td>\n",
       "      <td>2023-09-24</td>\n",
       "      <td>Holkar Cricket Stadium, Indore</td>\n",
       "      <td>1</td>\n",
       "      <td>0.2</td>\n",
       "      <td>India</td>\n",
       "      <td>Australia</td>\n",
       "      <td>RD Gaikwad</td>\n",
       "      <td>Shubman Gill</td>\n",
       "      <td>...</td>\n",
       "      <td>NaN</td>\n",
       "      <td>NaN</td>\n",
       "      <td>NaN</td>\n",
       "      <td>NaN</td>\n",
       "      <td>1389389</td>\n",
       "      <td>4</td>\n",
       "      <td>0</td>\n",
       "      <td>399</td>\n",
       "      <td>4.0</td>\n",
       "      <td>0.0</td>\n",
       "    </tr>\n",
       "    <tr>\n",
       "      <th>2</th>\n",
       "      <td>1389389</td>\n",
       "      <td>2023/24</td>\n",
       "      <td>2023-09-24</td>\n",
       "      <td>Holkar Cricket Stadium, Indore</td>\n",
       "      <td>1</td>\n",
       "      <td>0.3</td>\n",
       "      <td>India</td>\n",
       "      <td>Australia</td>\n",
       "      <td>RD Gaikwad</td>\n",
       "      <td>Shubman Gill</td>\n",
       "      <td>...</td>\n",
       "      <td>NaN</td>\n",
       "      <td>NaN</td>\n",
       "      <td>NaN</td>\n",
       "      <td>NaN</td>\n",
       "      <td>1389389</td>\n",
       "      <td>8</td>\n",
       "      <td>0</td>\n",
       "      <td>399</td>\n",
       "      <td>8.0</td>\n",
       "      <td>0.0</td>\n",
       "    </tr>\n",
       "    <tr>\n",
       "      <th>3</th>\n",
       "      <td>1389389</td>\n",
       "      <td>2023/24</td>\n",
       "      <td>2023-09-24</td>\n",
       "      <td>Holkar Cricket Stadium, Indore</td>\n",
       "      <td>1</td>\n",
       "      <td>0.4</td>\n",
       "      <td>India</td>\n",
       "      <td>Australia</td>\n",
       "      <td>RD Gaikwad</td>\n",
       "      <td>Shubman Gill</td>\n",
       "      <td>...</td>\n",
       "      <td>NaN</td>\n",
       "      <td>NaN</td>\n",
       "      <td>NaN</td>\n",
       "      <td>NaN</td>\n",
       "      <td>1389389</td>\n",
       "      <td>8</td>\n",
       "      <td>0</td>\n",
       "      <td>399</td>\n",
       "      <td>8.0</td>\n",
       "      <td>0.0</td>\n",
       "    </tr>\n",
       "    <tr>\n",
       "      <th>4</th>\n",
       "      <td>1389389</td>\n",
       "      <td>2023/24</td>\n",
       "      <td>2023-09-24</td>\n",
       "      <td>Holkar Cricket Stadium, Indore</td>\n",
       "      <td>1</td>\n",
       "      <td>0.5</td>\n",
       "      <td>India</td>\n",
       "      <td>Australia</td>\n",
       "      <td>RD Gaikwad</td>\n",
       "      <td>Shubman Gill</td>\n",
       "      <td>...</td>\n",
       "      <td>NaN</td>\n",
       "      <td>NaN</td>\n",
       "      <td>NaN</td>\n",
       "      <td>NaN</td>\n",
       "      <td>1389389</td>\n",
       "      <td>8</td>\n",
       "      <td>0</td>\n",
       "      <td>399</td>\n",
       "      <td>8.0</td>\n",
       "      <td>0.0</td>\n",
       "    </tr>\n",
       "    <tr>\n",
       "      <th>...</th>\n",
       "      <td>...</td>\n",
       "      <td>...</td>\n",
       "      <td>...</td>\n",
       "      <td>...</td>\n",
       "      <td>...</td>\n",
       "      <td>...</td>\n",
       "      <td>...</td>\n",
       "      <td>...</td>\n",
       "      <td>...</td>\n",
       "      <td>...</td>\n",
       "      <td>...</td>\n",
       "      <td>...</td>\n",
       "      <td>...</td>\n",
       "      <td>...</td>\n",
       "      <td>...</td>\n",
       "      <td>...</td>\n",
       "      <td>...</td>\n",
       "      <td>...</td>\n",
       "      <td>...</td>\n",
       "      <td>...</td>\n",
       "      <td>...</td>\n",
       "    </tr>\n",
       "    <tr>\n",
       "      <th>480</th>\n",
       "      <td>1389389</td>\n",
       "      <td>2023/24</td>\n",
       "      <td>2023-09-24</td>\n",
       "      <td>Holkar Cricket Stadium, Indore</td>\n",
       "      <td>2</td>\n",
       "      <td>27.6</td>\n",
       "      <td>Australia</td>\n",
       "      <td>India</td>\n",
       "      <td>JR Hazlewood</td>\n",
       "      <td>SA Abbott</td>\n",
       "      <td>...</td>\n",
       "      <td>bowled</td>\n",
       "      <td>JR Hazlewood</td>\n",
       "      <td>NaN</td>\n",
       "      <td>NaN</td>\n",
       "      <td>1389389</td>\n",
       "      <td>217</td>\n",
       "      <td>9</td>\n",
       "      <td>217</td>\n",
       "      <td>55.0</td>\n",
       "      <td>1.0</td>\n",
       "    </tr>\n",
       "    <tr>\n",
       "      <th>481</th>\n",
       "      <td>1389389</td>\n",
       "      <td>2023/24</td>\n",
       "      <td>2023-09-24</td>\n",
       "      <td>Holkar Cricket Stadium, Indore</td>\n",
       "      <td>2</td>\n",
       "      <td>28.1</td>\n",
       "      <td>Australia</td>\n",
       "      <td>India</td>\n",
       "      <td>SA Abbott</td>\n",
       "      <td>SH Johnson</td>\n",
       "      <td>...</td>\n",
       "      <td>NaN</td>\n",
       "      <td>NaN</td>\n",
       "      <td>NaN</td>\n",
       "      <td>NaN</td>\n",
       "      <td>1389389</td>\n",
       "      <td>217</td>\n",
       "      <td>9</td>\n",
       "      <td>217</td>\n",
       "      <td>49.0</td>\n",
       "      <td>1.0</td>\n",
       "    </tr>\n",
       "    <tr>\n",
       "      <th>482</th>\n",
       "      <td>1389389</td>\n",
       "      <td>2023/24</td>\n",
       "      <td>2023-09-24</td>\n",
       "      <td>Holkar Cricket Stadium, Indore</td>\n",
       "      <td>2</td>\n",
       "      <td>28.2</td>\n",
       "      <td>Australia</td>\n",
       "      <td>India</td>\n",
       "      <td>SA Abbott</td>\n",
       "      <td>SH Johnson</td>\n",
       "      <td>...</td>\n",
       "      <td>bowled</td>\n",
       "      <td>SA Abbott</td>\n",
       "      <td>NaN</td>\n",
       "      <td>NaN</td>\n",
       "      <td>1389389</td>\n",
       "      <td>217</td>\n",
       "      <td>10</td>\n",
       "      <td>217</td>\n",
       "      <td>49.0</td>\n",
       "      <td>2.0</td>\n",
       "    </tr>\n",
       "    <tr>\n",
       "      <th>483</th>\n",
       "      <td>1336129</td>\n",
       "      <td>2023</td>\n",
       "      <td>2023-09-23</td>\n",
       "      <td>Trent Bridge, Nottingham</td>\n",
       "      <td>1</td>\n",
       "      <td>0.1</td>\n",
       "      <td>England</td>\n",
       "      <td>Ireland</td>\n",
       "      <td>PD Salt</td>\n",
       "      <td>WG Jacks</td>\n",
       "      <td>...</td>\n",
       "      <td>NaN</td>\n",
       "      <td>NaN</td>\n",
       "      <td>NaN</td>\n",
       "      <td>NaN</td>\n",
       "      <td>1336129</td>\n",
       "      <td>0</td>\n",
       "      <td>0</td>\n",
       "      <td>334</td>\n",
       "      <td>0.0</td>\n",
       "      <td>0.0</td>\n",
       "    </tr>\n",
       "    <tr>\n",
       "      <th>484</th>\n",
       "      <td>1336129</td>\n",
       "      <td>2023</td>\n",
       "      <td>2023-09-23</td>\n",
       "      <td>Trent Bridge, Nottingham</td>\n",
       "      <td>1</td>\n",
       "      <td>0.2</td>\n",
       "      <td>England</td>\n",
       "      <td>Ireland</td>\n",
       "      <td>PD Salt</td>\n",
       "      <td>WG Jacks</td>\n",
       "      <td>...</td>\n",
       "      <td>NaN</td>\n",
       "      <td>NaN</td>\n",
       "      <td>NaN</td>\n",
       "      <td>NaN</td>\n",
       "      <td>1336129</td>\n",
       "      <td>4</td>\n",
       "      <td>0</td>\n",
       "      <td>334</td>\n",
       "      <td>4.0</td>\n",
       "      <td>0.0</td>\n",
       "    </tr>\n",
       "  </tbody>\n",
       "</table>\n",
       "<p>485 rows × 28 columns</p>\n",
       "</div>"
      ],
      "text/plain": [
       "     match_id   season  start_date                           venue  innings  \\\n",
       "0     1389389  2023/24  2023-09-24  Holkar Cricket Stadium, Indore        1   \n",
       "1     1389389  2023/24  2023-09-24  Holkar Cricket Stadium, Indore        1   \n",
       "2     1389389  2023/24  2023-09-24  Holkar Cricket Stadium, Indore        1   \n",
       "3     1389389  2023/24  2023-09-24  Holkar Cricket Stadium, Indore        1   \n",
       "4     1389389  2023/24  2023-09-24  Holkar Cricket Stadium, Indore        1   \n",
       "..        ...      ...         ...                             ...      ...   \n",
       "480   1389389  2023/24  2023-09-24  Holkar Cricket Stadium, Indore        2   \n",
       "481   1389389  2023/24  2023-09-24  Holkar Cricket Stadium, Indore        2   \n",
       "482   1389389  2023/24  2023-09-24  Holkar Cricket Stadium, Indore        2   \n",
       "483   1336129     2023  2023-09-23        Trent Bridge, Nottingham        1   \n",
       "484   1336129     2023  2023-09-23        Trent Bridge, Nottingham        1   \n",
       "\n",
       "     ball batting_team bowling_team       striker   non_striker  ...  \\\n",
       "0     0.1        India    Australia    RD Gaikwad  Shubman Gill  ...   \n",
       "1     0.2        India    Australia    RD Gaikwad  Shubman Gill  ...   \n",
       "2     0.3        India    Australia    RD Gaikwad  Shubman Gill  ...   \n",
       "3     0.4        India    Australia    RD Gaikwad  Shubman Gill  ...   \n",
       "4     0.5        India    Australia    RD Gaikwad  Shubman Gill  ...   \n",
       "..    ...          ...          ...           ...           ...  ...   \n",
       "480  27.6    Australia        India  JR Hazlewood     SA Abbott  ...   \n",
       "481  28.1    Australia        India     SA Abbott    SH Johnson  ...   \n",
       "482  28.2    Australia        India     SA Abbott    SH Johnson  ...   \n",
       "483   0.1      England      Ireland       PD Salt      WG Jacks  ...   \n",
       "484   0.2      England      Ireland       PD Salt      WG Jacks  ...   \n",
       "\n",
       "    wicket_type  player_dismissed  other_wicket_type  other_player_dismissed  \\\n",
       "0           NaN               NaN                NaN                     NaN   \n",
       "1           NaN               NaN                NaN                     NaN   \n",
       "2           NaN               NaN                NaN                     NaN   \n",
       "3           NaN               NaN                NaN                     NaN   \n",
       "4           NaN               NaN                NaN                     NaN   \n",
       "..          ...               ...                ...                     ...   \n",
       "480      bowled      JR Hazlewood                NaN                     NaN   \n",
       "481         NaN               NaN                NaN                     NaN   \n",
       "482      bowled         SA Abbott                NaN                     NaN   \n",
       "483         NaN               NaN                NaN                     NaN   \n",
       "484         NaN               NaN                NaN                     NaN   \n",
       "\n",
       "     cricsheet_id  innings_runs  Innings_wickets  total_score  \\\n",
       "0         1389389             4                0          399   \n",
       "1         1389389             4                0          399   \n",
       "2         1389389             8                0          399   \n",
       "3         1389389             8                0          399   \n",
       "4         1389389             8                0          399   \n",
       "..            ...           ...              ...          ...   \n",
       "480       1389389           217                9          217   \n",
       "481       1389389           217                9          217   \n",
       "482       1389389           217               10          217   \n",
       "483       1336129             0                0          334   \n",
       "484       1336129             4                0          334   \n",
       "\n",
       "    runs_last_5_overs wickets_last_5_overs  \n",
       "0                 4.0                  0.0  \n",
       "1                 4.0                  0.0  \n",
       "2                 8.0                  0.0  \n",
       "3                 8.0                  0.0  \n",
       "4                 8.0                  0.0  \n",
       "..                ...                  ...  \n",
       "480              55.0                  1.0  \n",
       "481              49.0                  1.0  \n",
       "482              49.0                  2.0  \n",
       "483               0.0                  0.0  \n",
       "484               4.0                  0.0  \n",
       "\n",
       "[485 rows x 28 columns]"
      ]
     },
     "execution_count": 12,
     "metadata": {},
     "output_type": "execute_result"
    }
   ],
   "source": [
    "world_df.head(485)"
   ]
  },
  {
   "cell_type": "code",
   "execution_count": 13,
   "id": "f9e0eb89",
   "metadata": {
    "execution": {
     "iopub.execute_input": "2023-11-27T11:35:10.665471Z",
     "iopub.status.busy": "2023-11-27T11:35:10.664202Z",
     "iopub.status.idle": "2023-11-27T11:35:10.672114Z",
     "shell.execute_reply": "2023-11-27T11:35:10.671383Z"
    },
    "id": "0080d81f-24d0-4ebd-bf65-61c89801685d",
    "outputId": "02ffb4dd-7ba2-44bd-af43-e02afbc3237e",
    "papermill": {
     "duration": 0.027571,
     "end_time": "2023-11-27T11:35:10.674226",
     "exception": false,
     "start_time": "2023-11-27T11:35:10.646655",
     "status": "completed"
    },
    "tags": []
   },
   "outputs": [
    {
     "data": {
      "text/plain": [
       "Index(['match_id', 'season', 'start_date', 'venue', 'innings', 'ball',\n",
       "       'batting_team', 'bowling_team', 'striker', 'non_striker', 'bowler',\n",
       "       'runs_off_bat', 'extras', 'wides', 'noballs', 'byes', 'legbyes',\n",
       "       'penalty', 'wicket_type', 'player_dismissed', 'other_wicket_type',\n",
       "       'other_player_dismissed', 'cricsheet_id', 'innings_runs',\n",
       "       'Innings_wickets', 'total_score', 'runs_last_5_overs',\n",
       "       'wickets_last_5_overs'],\n",
       "      dtype='object')"
      ]
     },
     "execution_count": 13,
     "metadata": {},
     "output_type": "execute_result"
    }
   ],
   "source": [
    "world_df.columns"
   ]
  },
  {
   "cell_type": "markdown",
   "id": "fb4e9239",
   "metadata": {
    "id": "IJnaIehNL5s7",
    "papermill": {
     "duration": 0.016501,
     "end_time": "2023-11-27T11:35:10.706966",
     "exception": false,
     "start_time": "2023-11-27T11:35:10.690465",
     "status": "completed"
    },
    "tags": []
   },
   "source": [
    "### **4.5. Removing irrelevant features**\n",
    "> *Here*, we certain columns such as,\n",
    "_`['match_id', 'season', 'start_date', 'venue', 'innings', 'striker', 'non_striker', 'bowler', 'runs_off_bat', 'extras', 'wides', 'noballs', 'byes', 'legbyes', 'penalty', 'wicket_type', 'player_dismissed', 'other_wicket_type', 'other_player_dismissed', 'cricsheet_id']`_ won't provide any relevant information for model to train, so we remove them."
   ]
  },
  {
   "cell_type": "code",
   "execution_count": 14,
   "id": "90af67f5",
   "metadata": {
    "execution": {
     "iopub.execute_input": "2023-11-27T11:35:10.742079Z",
     "iopub.status.busy": "2023-11-27T11:35:10.741264Z",
     "iopub.status.idle": "2023-11-27T11:35:10.839312Z",
     "shell.execute_reply": "2023-11-27T11:35:10.838383Z"
    },
    "id": "08e141ef-b08f-430f-91b6-7e938752641d",
    "outputId": "9c92e331-5d91-4a84-d1c3-07fa09033385",
    "papermill": {
     "duration": 0.117923,
     "end_time": "2023-11-27T11:35:10.841503",
     "exception": false,
     "start_time": "2023-11-27T11:35:10.723580",
     "status": "completed"
    },
    "tags": []
   },
   "outputs": [
    {
     "name": "stdout",
     "output_type": "stream",
     "text": [
      "Before Removing Irrelevant Columns : (1265103, 28)\n",
      "After Removing Irrelevant Columns : (1265103, 8)\n"
     ]
    },
    {
     "data": {
      "text/html": [
       "<div>\n",
       "<style scoped>\n",
       "    .dataframe tbody tr th:only-of-type {\n",
       "        vertical-align: middle;\n",
       "    }\n",
       "\n",
       "    .dataframe tbody tr th {\n",
       "        vertical-align: top;\n",
       "    }\n",
       "\n",
       "    .dataframe thead th {\n",
       "        text-align: right;\n",
       "    }\n",
       "</style>\n",
       "<table border=\"1\" class=\"dataframe\">\n",
       "  <thead>\n",
       "    <tr style=\"text-align: right;\">\n",
       "      <th></th>\n",
       "      <th>ball</th>\n",
       "      <th>batting_team</th>\n",
       "      <th>bowling_team</th>\n",
       "      <th>innings_runs</th>\n",
       "      <th>Innings_wickets</th>\n",
       "      <th>total_score</th>\n",
       "      <th>runs_last_5_overs</th>\n",
       "      <th>wickets_last_5_overs</th>\n",
       "    </tr>\n",
       "  </thead>\n",
       "  <tbody>\n",
       "    <tr>\n",
       "      <th>0</th>\n",
       "      <td>0.1</td>\n",
       "      <td>India</td>\n",
       "      <td>Australia</td>\n",
       "      <td>4</td>\n",
       "      <td>0</td>\n",
       "      <td>399</td>\n",
       "      <td>4.0</td>\n",
       "      <td>0.0</td>\n",
       "    </tr>\n",
       "    <tr>\n",
       "      <th>1</th>\n",
       "      <td>0.2</td>\n",
       "      <td>India</td>\n",
       "      <td>Australia</td>\n",
       "      <td>4</td>\n",
       "      <td>0</td>\n",
       "      <td>399</td>\n",
       "      <td>4.0</td>\n",
       "      <td>0.0</td>\n",
       "    </tr>\n",
       "    <tr>\n",
       "      <th>2</th>\n",
       "      <td>0.3</td>\n",
       "      <td>India</td>\n",
       "      <td>Australia</td>\n",
       "      <td>8</td>\n",
       "      <td>0</td>\n",
       "      <td>399</td>\n",
       "      <td>8.0</td>\n",
       "      <td>0.0</td>\n",
       "    </tr>\n",
       "    <tr>\n",
       "      <th>3</th>\n",
       "      <td>0.4</td>\n",
       "      <td>India</td>\n",
       "      <td>Australia</td>\n",
       "      <td>8</td>\n",
       "      <td>0</td>\n",
       "      <td>399</td>\n",
       "      <td>8.0</td>\n",
       "      <td>0.0</td>\n",
       "    </tr>\n",
       "    <tr>\n",
       "      <th>4</th>\n",
       "      <td>0.5</td>\n",
       "      <td>India</td>\n",
       "      <td>Australia</td>\n",
       "      <td>8</td>\n",
       "      <td>0</td>\n",
       "      <td>399</td>\n",
       "      <td>8.0</td>\n",
       "      <td>0.0</td>\n",
       "    </tr>\n",
       "    <tr>\n",
       "      <th>...</th>\n",
       "      <td>...</td>\n",
       "      <td>...</td>\n",
       "      <td>...</td>\n",
       "      <td>...</td>\n",
       "      <td>...</td>\n",
       "      <td>...</td>\n",
       "      <td>...</td>\n",
       "      <td>...</td>\n",
       "    </tr>\n",
       "    <tr>\n",
       "      <th>305</th>\n",
       "      <td>49.2</td>\n",
       "      <td>India</td>\n",
       "      <td>Australia</td>\n",
       "      <td>390</td>\n",
       "      <td>5</td>\n",
       "      <td>399</td>\n",
       "      <td>45.0</td>\n",
       "      <td>1.0</td>\n",
       "    </tr>\n",
       "    <tr>\n",
       "      <th>306</th>\n",
       "      <td>49.3</td>\n",
       "      <td>India</td>\n",
       "      <td>Australia</td>\n",
       "      <td>396</td>\n",
       "      <td>5</td>\n",
       "      <td>399</td>\n",
       "      <td>51.0</td>\n",
       "      <td>1.0</td>\n",
       "    </tr>\n",
       "    <tr>\n",
       "      <th>307</th>\n",
       "      <td>49.4</td>\n",
       "      <td>India</td>\n",
       "      <td>Australia</td>\n",
       "      <td>397</td>\n",
       "      <td>5</td>\n",
       "      <td>399</td>\n",
       "      <td>52.0</td>\n",
       "      <td>1.0</td>\n",
       "    </tr>\n",
       "    <tr>\n",
       "      <th>308</th>\n",
       "      <td>49.5</td>\n",
       "      <td>India</td>\n",
       "      <td>Australia</td>\n",
       "      <td>398</td>\n",
       "      <td>5</td>\n",
       "      <td>399</td>\n",
       "      <td>52.0</td>\n",
       "      <td>1.0</td>\n",
       "    </tr>\n",
       "    <tr>\n",
       "      <th>309</th>\n",
       "      <td>49.6</td>\n",
       "      <td>India</td>\n",
       "      <td>Australia</td>\n",
       "      <td>399</td>\n",
       "      <td>5</td>\n",
       "      <td>399</td>\n",
       "      <td>53.0</td>\n",
       "      <td>1.0</td>\n",
       "    </tr>\n",
       "  </tbody>\n",
       "</table>\n",
       "<p>310 rows × 8 columns</p>\n",
       "</div>"
      ],
      "text/plain": [
       "     ball batting_team bowling_team  innings_runs  Innings_wickets  \\\n",
       "0     0.1        India    Australia             4                0   \n",
       "1     0.2        India    Australia             4                0   \n",
       "2     0.3        India    Australia             8                0   \n",
       "3     0.4        India    Australia             8                0   \n",
       "4     0.5        India    Australia             8                0   \n",
       "..    ...          ...          ...           ...              ...   \n",
       "305  49.2        India    Australia           390                5   \n",
       "306  49.3        India    Australia           396                5   \n",
       "307  49.4        India    Australia           397                5   \n",
       "308  49.5        India    Australia           398                5   \n",
       "309  49.6        India    Australia           399                5   \n",
       "\n",
       "     total_score  runs_last_5_overs  wickets_last_5_overs  \n",
       "0            399                4.0                   0.0  \n",
       "1            399                4.0                   0.0  \n",
       "2            399                8.0                   0.0  \n",
       "3            399                8.0                   0.0  \n",
       "4            399                8.0                   0.0  \n",
       "..           ...                ...                   ...  \n",
       "305          399               45.0                   1.0  \n",
       "306          399               51.0                   1.0  \n",
       "307          399               52.0                   1.0  \n",
       "308          399               52.0                   1.0  \n",
       "309          399               53.0                   1.0  \n",
       "\n",
       "[310 rows x 8 columns]"
      ]
     },
     "execution_count": 14,
     "metadata": {},
     "output_type": "execute_result"
    }
   ],
   "source": [
    "irrelevant = ['match_id', 'season', 'start_date', 'venue', 'innings',\n",
    "       'striker', 'non_striker', 'bowler',\n",
    "       'runs_off_bat', 'extras', 'wides', 'noballs', 'byes', 'legbyes',\n",
    "       'penalty', 'wicket_type', 'player_dismissed', 'other_wicket_type',\n",
    "       'other_player_dismissed', 'cricsheet_id']\n",
    "\n",
    "print(f'Before Removing Irrelevant Columns : {world_df.shape}')\n",
    "\n",
    "world_df = world_df.drop(irrelevant, axis=1) # Drop Irrelevant Columns\n",
    "print(f'After Removing Irrelevant Columns : {world_df.shape}')\n",
    "\n",
    "world_df.head(310)"
   ]
  },
  {
   "cell_type": "markdown",
   "id": "22bab91b",
   "metadata": {
    "id": "2sz9_9tCNjm8",
    "papermill": {
     "duration": 0.016708,
     "end_time": "2023-11-27T11:35:10.874947",
     "exception": false,
     "start_time": "2023-11-27T11:35:10.858239",
     "status": "completed"
    },
    "tags": []
   },
   "source": [
    "### **4.6. Removing Non-Consistent Teams**\n",
    "> The teams that appears very rarely onto the ODI table may affect the performance and accuracy of the model. So these teams are to be analyzed and removed from the training data.\n",
    "\n",
    "> After analysis of data the following teams where ***Consistent***:\n",
    "  - Afghanistan\n",
    "  - Australia\n",
    "  - Bangladesh\n",
    "  - England\n",
    "  - India\n",
    "  - Ireland\n",
    "  - New Zealand\n",
    "  - Pakistan\n",
    "  - South Africa\n",
    "  - Sri Lanka\n",
    "  - West Indies\n",
    "  - Zimbabwe"
   ]
  },
  {
   "cell_type": "code",
   "execution_count": 15,
   "id": "1c2c781e",
   "metadata": {
    "execution": {
     "iopub.execute_input": "2023-11-27T11:35:10.910802Z",
     "iopub.status.busy": "2023-11-27T11:35:10.910058Z",
     "iopub.status.idle": "2023-11-27T11:35:11.267114Z",
     "shell.execute_reply": "2023-11-27T11:35:11.266305Z"
    },
    "id": "d6f44e33-f840-4edc-bb17-256428391bff",
    "outputId": "ffd7e26a-e284-4d9f-8416-bf6568cc4e3b",
    "papermill": {
     "duration": 0.37775,
     "end_time": "2023-11-27T11:35:11.269264",
     "exception": false,
     "start_time": "2023-11-27T11:35:10.891514",
     "status": "completed"
    },
    "tags": []
   },
   "outputs": [
    {
     "name": "stdout",
     "output_type": "stream",
     "text": [
      "Before Removing Inconsistent Teams : (1265103, 8)\n",
      "After Removing Irrelevant Columns : (1049505, 8)\n",
      "Consistent Teams : \n",
      "['India' 'Australia' 'England' 'Ireland' 'New Zealand' 'Bangladesh'\n",
      " 'South Africa' 'Sri Lanka' 'Pakistan' 'Afghanistan' 'West Indies'\n",
      " 'Zimbabwe']\n"
     ]
    },
    {
     "data": {
      "text/html": [
       "<div>\n",
       "<style scoped>\n",
       "    .dataframe tbody tr th:only-of-type {\n",
       "        vertical-align: middle;\n",
       "    }\n",
       "\n",
       "    .dataframe tbody tr th {\n",
       "        vertical-align: top;\n",
       "    }\n",
       "\n",
       "    .dataframe thead th {\n",
       "        text-align: right;\n",
       "    }\n",
       "</style>\n",
       "<table border=\"1\" class=\"dataframe\">\n",
       "  <thead>\n",
       "    <tr style=\"text-align: right;\">\n",
       "      <th></th>\n",
       "      <th>ball</th>\n",
       "      <th>batting_team</th>\n",
       "      <th>bowling_team</th>\n",
       "      <th>innings_runs</th>\n",
       "      <th>Innings_wickets</th>\n",
       "      <th>total_score</th>\n",
       "      <th>runs_last_5_overs</th>\n",
       "      <th>wickets_last_5_overs</th>\n",
       "    </tr>\n",
       "  </thead>\n",
       "  <tbody>\n",
       "    <tr>\n",
       "      <th>0</th>\n",
       "      <td>0.1</td>\n",
       "      <td>India</td>\n",
       "      <td>Australia</td>\n",
       "      <td>4</td>\n",
       "      <td>0</td>\n",
       "      <td>399</td>\n",
       "      <td>4.0</td>\n",
       "      <td>0.0</td>\n",
       "    </tr>\n",
       "    <tr>\n",
       "      <th>1</th>\n",
       "      <td>0.2</td>\n",
       "      <td>India</td>\n",
       "      <td>Australia</td>\n",
       "      <td>4</td>\n",
       "      <td>0</td>\n",
       "      <td>399</td>\n",
       "      <td>4.0</td>\n",
       "      <td>0.0</td>\n",
       "    </tr>\n",
       "    <tr>\n",
       "      <th>2</th>\n",
       "      <td>0.3</td>\n",
       "      <td>India</td>\n",
       "      <td>Australia</td>\n",
       "      <td>8</td>\n",
       "      <td>0</td>\n",
       "      <td>399</td>\n",
       "      <td>8.0</td>\n",
       "      <td>0.0</td>\n",
       "    </tr>\n",
       "    <tr>\n",
       "      <th>3</th>\n",
       "      <td>0.4</td>\n",
       "      <td>India</td>\n",
       "      <td>Australia</td>\n",
       "      <td>8</td>\n",
       "      <td>0</td>\n",
       "      <td>399</td>\n",
       "      <td>8.0</td>\n",
       "      <td>0.0</td>\n",
       "    </tr>\n",
       "    <tr>\n",
       "      <th>4</th>\n",
       "      <td>0.5</td>\n",
       "      <td>India</td>\n",
       "      <td>Australia</td>\n",
       "      <td>8</td>\n",
       "      <td>0</td>\n",
       "      <td>399</td>\n",
       "      <td>8.0</td>\n",
       "      <td>0.0</td>\n",
       "    </tr>\n",
       "  </tbody>\n",
       "</table>\n",
       "</div>"
      ],
      "text/plain": [
       "   ball batting_team bowling_team  innings_runs  Innings_wickets  total_score  \\\n",
       "0   0.1        India    Australia             4                0          399   \n",
       "1   0.2        India    Australia             4                0          399   \n",
       "2   0.3        India    Australia             8                0          399   \n",
       "3   0.4        India    Australia             8                0          399   \n",
       "4   0.5        India    Australia             8                0          399   \n",
       "\n",
       "   runs_last_5_overs  wickets_last_5_overs  \n",
       "0                4.0                   0.0  \n",
       "1                4.0                   0.0  \n",
       "2                8.0                   0.0  \n",
       "3                8.0                   0.0  \n",
       "4                8.0                   0.0  "
      ]
     },
     "execution_count": 15,
     "metadata": {},
     "output_type": "execute_result"
    }
   ],
   "source": [
    "#Removing non-consistent teams\n",
    "const_teams = ['Afghanistan', 'Australia', 'Bangladesh','England', 'India', 'Ireland','New Zealand', 'Pakistan', 'South Africa', 'Sri Lanka',\n",
    "               'West Indies', 'Zimbabwe']\n",
    "\n",
    "print(f'Before Removing Inconsistent Teams : {world_df.shape}')\n",
    "\n",
    "world_df = world_df[(world_df['batting_team'].isin(const_teams)) & (world_df['bowling_team'].isin(const_teams))]\n",
    "print(f'After Removing Irrelevant Columns : {world_df.shape}')\n",
    "\n",
    "print(f\"Consistent Teams : \\n{world_df['batting_team'].unique()}\")\n",
    "\n",
    "world_df.head()"
   ]
  },
  {
   "cell_type": "markdown",
   "id": "1b10cbae",
   "metadata": {
    "id": "RRHyatWQNv3P",
    "papermill": {
     "duration": 0.01725,
     "end_time": "2023-11-27T11:35:11.304445",
     "exception": false,
     "start_time": "2023-11-27T11:35:11.287195",
     "status": "completed"
    },
    "tags": []
   },
   "source": [
    "### **4.7. Remove First 5 Overs of every match**\n",
    "\n",
    "> The first 5 overs of every match cannot contribute or are not very impactfull to the scores of the match. Hence the first 5 overs of each match are removed.\n",
    "\n",
    "> **_NOTE_:** `Due to this the final model might not give very accurate results for the first 5 overs of the match.`"
   ]
  },
  {
   "cell_type": "code",
   "execution_count": 16,
   "id": "ee99565d",
   "metadata": {
    "execution": {
     "iopub.execute_input": "2023-11-27T11:35:11.345831Z",
     "iopub.status.busy": "2023-11-27T11:35:11.345093Z",
     "iopub.status.idle": "2023-11-27T11:35:11.465010Z",
     "shell.execute_reply": "2023-11-27T11:35:11.464258Z"
    },
    "id": "2772456f-825f-454b-aa51-eed43fb32863",
    "outputId": "fc61fb47-9b49-4856-a686-ddd8346c72ff",
    "papermill": {
     "duration": 0.143231,
     "end_time": "2023-11-27T11:35:11.468087",
     "exception": false,
     "start_time": "2023-11-27T11:35:11.324856",
     "status": "completed"
    },
    "tags": []
   },
   "outputs": [
    {
     "name": "stdout",
     "output_type": "stream",
     "text": [
      "Before Removing Overs : (1049505, 8)\n",
      "After Removing Overs : (927972, 8)\n"
     ]
    },
    {
     "data": {
      "text/html": [
       "<div>\n",
       "<style scoped>\n",
       "    .dataframe tbody tr th:only-of-type {\n",
       "        vertical-align: middle;\n",
       "    }\n",
       "\n",
       "    .dataframe tbody tr th {\n",
       "        vertical-align: top;\n",
       "    }\n",
       "\n",
       "    .dataframe thead th {\n",
       "        text-align: right;\n",
       "    }\n",
       "</style>\n",
       "<table border=\"1\" class=\"dataframe\">\n",
       "  <thead>\n",
       "    <tr style=\"text-align: right;\">\n",
       "      <th></th>\n",
       "      <th>ball</th>\n",
       "      <th>batting_team</th>\n",
       "      <th>bowling_team</th>\n",
       "      <th>innings_runs</th>\n",
       "      <th>Innings_wickets</th>\n",
       "      <th>total_score</th>\n",
       "      <th>runs_last_5_overs</th>\n",
       "      <th>wickets_last_5_overs</th>\n",
       "    </tr>\n",
       "  </thead>\n",
       "  <tbody>\n",
       "    <tr>\n",
       "      <th>31</th>\n",
       "      <td>5.1</td>\n",
       "      <td>India</td>\n",
       "      <td>Australia</td>\n",
       "      <td>30</td>\n",
       "      <td>1</td>\n",
       "      <td>399</td>\n",
       "      <td>26.0</td>\n",
       "      <td>1.0</td>\n",
       "    </tr>\n",
       "    <tr>\n",
       "      <th>32</th>\n",
       "      <td>5.2</td>\n",
       "      <td>India</td>\n",
       "      <td>Australia</td>\n",
       "      <td>30</td>\n",
       "      <td>1</td>\n",
       "      <td>399</td>\n",
       "      <td>22.0</td>\n",
       "      <td>1.0</td>\n",
       "    </tr>\n",
       "    <tr>\n",
       "      <th>33</th>\n",
       "      <td>5.3</td>\n",
       "      <td>India</td>\n",
       "      <td>Australia</td>\n",
       "      <td>32</td>\n",
       "      <td>1</td>\n",
       "      <td>399</td>\n",
       "      <td>24.0</td>\n",
       "      <td>1.0</td>\n",
       "    </tr>\n",
       "    <tr>\n",
       "      <th>34</th>\n",
       "      <td>5.4</td>\n",
       "      <td>India</td>\n",
       "      <td>Australia</td>\n",
       "      <td>32</td>\n",
       "      <td>1</td>\n",
       "      <td>399</td>\n",
       "      <td>24.0</td>\n",
       "      <td>1.0</td>\n",
       "    </tr>\n",
       "    <tr>\n",
       "      <th>35</th>\n",
       "      <td>5.5</td>\n",
       "      <td>India</td>\n",
       "      <td>Australia</td>\n",
       "      <td>36</td>\n",
       "      <td>1</td>\n",
       "      <td>399</td>\n",
       "      <td>23.0</td>\n",
       "      <td>1.0</td>\n",
       "    </tr>\n",
       "  </tbody>\n",
       "</table>\n",
       "</div>"
      ],
      "text/plain": [
       "    ball batting_team bowling_team  innings_runs  Innings_wickets  \\\n",
       "31   5.1        India    Australia            30                1   \n",
       "32   5.2        India    Australia            30                1   \n",
       "33   5.3        India    Australia            32                1   \n",
       "34   5.4        India    Australia            32                1   \n",
       "35   5.5        India    Australia            36                1   \n",
       "\n",
       "    total_score  runs_last_5_overs  wickets_last_5_overs  \n",
       "31          399               26.0                   1.0  \n",
       "32          399               22.0                   1.0  \n",
       "33          399               24.0                   1.0  \n",
       "34          399               24.0                   1.0  \n",
       "35          399               23.0                   1.0  "
      ]
     },
     "execution_count": 16,
     "metadata": {},
     "output_type": "execute_result"
    }
   ],
   "source": [
    "print(f'Before Removing Overs : {world_df.shape}')\n",
    "\n",
    "world_df = world_df[world_df['ball'] >= 5.0]\n",
    "print(f'After Removing Overs : {world_df.shape}')\n",
    "\n",
    "world_df.head()"
   ]
  },
  {
   "cell_type": "markdown",
   "id": "1f706711",
   "metadata": {
    "id": "3aXBYuNhN4wJ",
    "papermill": {
     "duration": 0.020534,
     "end_time": "2023-11-27T11:35:11.509808",
     "exception": false,
     "start_time": "2023-11-27T11:35:11.489274",
     "status": "completed"
    },
    "tags": []
   },
   "source": [
    "### **4.8. Correlation between the final features**\n",
    "> Plotting a Correlation Matrix of current data using **Seaborn `heatmap`** module."
   ]
  },
  {
   "cell_type": "code",
   "execution_count": 17,
   "id": "d62d0799",
   "metadata": {
    "execution": {
     "iopub.execute_input": "2023-11-27T11:35:11.550700Z",
     "iopub.status.busy": "2023-11-27T11:35:11.549785Z",
     "iopub.status.idle": "2023-11-27T11:35:12.160179Z",
     "shell.execute_reply": "2023-11-27T11:35:12.159146Z"
    },
    "id": "474f232f-a801-4d9c-843e-250863f4dc55",
    "outputId": "bca92225-167e-43ff-cc22-68984c2f07d2",
    "papermill": {
     "duration": 0.632995,
     "end_time": "2023-11-27T11:35:12.162427",
     "exception": false,
     "start_time": "2023-11-27T11:35:11.529432",
     "status": "completed"
    },
    "tags": []
   },
   "outputs": [
    {
     "data": {
      "text/plain": [
       "<Axes: >"
      ]
     },
     "execution_count": 17,
     "metadata": {},
     "output_type": "execute_result"
    },
    {
     "data": {
      "image/png": "[encoded data removed]",
      "text/plain": [
       "<Figure size 640x480 with 2 Axes>"
      ]
     },
     "metadata": {},
     "output_type": "display_data"
    }
   ],
   "source": [
    "from seaborn import heatmap\n",
    "numerical_world_df = world_df.select_dtypes(include=['int64', 'float64', 'int32'])\n",
    "heatmap(data=numerical_world_df.corr(), annot=True)"
   ]
  },
  {
   "cell_type": "markdown",
   "id": "797acf3f",
   "metadata": {
    "id": "MBr3zUE_N_Aw",
    "papermill": {
     "duration": 0.018903,
     "end_time": "2023-11-27T11:35:12.200574",
     "exception": false,
     "start_time": "2023-11-27T11:35:12.181671",
     "status": "completed"
    },
    "tags": []
   },
   "source": [
    "## **NOTE:** The above Data cleaning Process takes a lot of time so if trying to test the model directly start the execution from **_`world_df2`_**.\n",
    "> I stored the cleaned data as **_`world_cup_data_train.csv`_**. So the above can be skipped and directly start the training an modelling of the data."
   ]
  },
  {
   "cell_type": "code",
   "execution_count": 18,
   "id": "8188462a",
   "metadata": {
    "execution": {
     "iopub.execute_input": "2023-11-27T11:35:12.241175Z",
     "iopub.status.busy": "2023-11-27T11:35:12.240380Z",
     "iopub.status.idle": "2023-11-27T11:35:15.745741Z",
     "shell.execute_reply": "2023-11-27T11:35:15.744677Z"
    },
    "id": "5172f02b-cfec-41ac-af43-bc9931fca78b",
    "papermill": {
     "duration": 3.528545,
     "end_time": "2023-11-27T11:35:15.748200",
     "exception": false,
     "start_time": "2023-11-27T11:35:12.219655",
     "status": "completed"
    },
    "tags": []
   },
   "outputs": [],
   "source": [
    "# Save the cleaned data as CSV\n",
    "world_df.to_csv(f\"world_cup_data_train.csv\", index=False)"
   ]
  },
  {
   "cell_type": "markdown",
   "id": "a08508e1",
   "metadata": {
    "id": "geiwmhstOxMB",
    "papermill": {
     "duration": 0.018465,
     "end_time": "2023-11-27T11:35:15.786188",
     "exception": false,
     "start_time": "2023-11-27T11:35:15.767723",
     "status": "completed"
    },
    "tags": []
   },
   "source": [
    "> Load the Cleaned Data directly."
   ]
  },
  {
   "cell_type": "code",
   "execution_count": 19,
   "id": "21c7cec7",
   "metadata": {
    "execution": {
     "iopub.execute_input": "2023-11-27T11:35:15.825770Z",
     "iopub.status.busy": "2023-11-27T11:35:15.825044Z",
     "iopub.status.idle": "2023-11-27T11:35:16.574582Z",
     "shell.execute_reply": "2023-11-27T11:35:16.573577Z"
    },
    "id": "aec90bf5-4faa-4a06-87de-d79c63eafb3a",
    "papermill": {
     "duration": 0.772607,
     "end_time": "2023-11-27T11:35:16.577338",
     "exception": false,
     "start_time": "2023-11-27T11:35:15.804731",
     "status": "completed"
    },
    "tags": []
   },
   "outputs": [],
   "source": [
    "# Load the cleaned Data.\n",
    "world_df2 = pd.read_csv('world_cup_data_train.csv', low_memory=False)"
   ]
  },
  {
   "cell_type": "code",
   "execution_count": 20,
   "id": "c257707e",
   "metadata": {
    "execution": {
     "iopub.execute_input": "2023-11-27T11:35:16.617984Z",
     "iopub.status.busy": "2023-11-27T11:35:16.617557Z",
     "iopub.status.idle": "2023-11-27T11:35:16.719671Z",
     "shell.execute_reply": "2023-11-27T11:35:16.718448Z"
    },
    "id": "1fa41971-f006-4d88-84e9-29659ad5217e",
    "outputId": "ba1d6753-ac03-477b-86fb-04899eafde9b",
    "papermill": {
     "duration": 0.12536,
     "end_time": "2023-11-27T11:35:16.721963",
     "exception": false,
     "start_time": "2023-11-27T11:35:16.596603",
     "status": "completed"
    },
    "tags": []
   },
   "outputs": [
    {
     "name": "stdout",
     "output_type": "stream",
     "text": [
      "<class 'pandas.core.frame.DataFrame'>\n",
      "RangeIndex: 927972 entries, 0 to 927971\n",
      "Data columns (total 8 columns):\n",
      " #   Column                Non-Null Count   Dtype  \n",
      "---  ------                --------------   -----  \n",
      " 0   ball                  927972 non-null  float64\n",
      " 1   batting_team          927972 non-null  object \n",
      " 2   bowling_team          927972 non-null  object \n",
      " 3   innings_runs          927972 non-null  int64  \n",
      " 4   Innings_wickets       927972 non-null  int64  \n",
      " 5   total_score           927972 non-null  int64  \n",
      " 6   runs_last_5_overs     927972 non-null  float64\n",
      " 7   wickets_last_5_overs  927972 non-null  float64\n",
      "dtypes: float64(3), int64(3), object(2)\n",
      "memory usage: 56.6+ MB\n"
     ]
    }
   ],
   "source": [
    "world_df2.info()"
   ]
  },
  {
   "cell_type": "markdown",
   "id": "257fdf37",
   "metadata": {
    "id": "qQTCSkx4PBZ1",
    "papermill": {
     "duration": 0.018851,
     "end_time": "2023-11-27T11:35:16.759901",
     "exception": false,
     "start_time": "2023-11-27T11:35:16.741050",
     "status": "completed"
    },
    "tags": []
   },
   "source": [
    "## **5. Data Preprocessing and Encoding**\n",
    "> The training data cannot be fed directly to the system as there are categorical as well as numerical data together. Moreover, it is efficient when the model is trained using the encoded numerical data types."
   ]
  },
  {
   "cell_type": "markdown",
   "id": "7c217a48",
   "metadata": {
    "id": "gOlSQykKPEvJ",
    "papermill": {
     "duration": 0.018335,
     "end_time": "2023-11-27T11:35:16.798023",
     "exception": false,
     "start_time": "2023-11-27T11:35:16.779688",
     "status": "completed"
    },
    "tags": []
   },
   "source": [
    "### **5.1. Performing Label Encoding**\n",
    "> The Categorical Data features Batting Team and Bowling Team are to be converted into the Numerical data using **_One Hot Encoder_**."
   ]
  },
  {
   "cell_type": "code",
   "execution_count": 21,
   "id": "b3a1ff87",
   "metadata": {
    "execution": {
     "iopub.execute_input": "2023-11-27T11:35:16.836822Z",
     "iopub.status.busy": "2023-11-27T11:35:16.836414Z",
     "iopub.status.idle": "2023-11-27T11:35:17.318417Z",
     "shell.execute_reply": "2023-11-27T11:35:17.317386Z"
    },
    "id": "3d693f68-96c0-4a89-913a-6b7a994d8a9e",
    "outputId": "59bb3573-05e0-4a0d-cbe1-477b689892fa",
    "papermill": {
     "duration": 0.504252,
     "end_time": "2023-11-27T11:35:17.320748",
     "exception": false,
     "start_time": "2023-11-27T11:35:16.816496",
     "status": "completed"
    },
    "tags": []
   },
   "outputs": [
    {
     "data": {
      "text/html": [
       "<div>\n",
       "<style scoped>\n",
       "    .dataframe tbody tr th:only-of-type {\n",
       "        vertical-align: middle;\n",
       "    }\n",
       "\n",
       "    .dataframe tbody tr th {\n",
       "        vertical-align: top;\n",
       "    }\n",
       "\n",
       "    .dataframe thead th {\n",
       "        text-align: right;\n",
       "    }\n",
       "</style>\n",
       "<table border=\"1\" class=\"dataframe\">\n",
       "  <thead>\n",
       "    <tr style=\"text-align: right;\">\n",
       "      <th></th>\n",
       "      <th>ball</th>\n",
       "      <th>batting_team</th>\n",
       "      <th>bowling_team</th>\n",
       "      <th>innings_runs</th>\n",
       "      <th>Innings_wickets</th>\n",
       "      <th>total_score</th>\n",
       "      <th>runs_last_5_overs</th>\n",
       "      <th>wickets_last_5_overs</th>\n",
       "    </tr>\n",
       "  </thead>\n",
       "  <tbody>\n",
       "    <tr>\n",
       "      <th>0</th>\n",
       "      <td>5.1</td>\n",
       "      <td>4</td>\n",
       "      <td>1</td>\n",
       "      <td>30</td>\n",
       "      <td>1</td>\n",
       "      <td>399</td>\n",
       "      <td>26.0</td>\n",
       "      <td>1.0</td>\n",
       "    </tr>\n",
       "    <tr>\n",
       "      <th>1</th>\n",
       "      <td>5.2</td>\n",
       "      <td>4</td>\n",
       "      <td>1</td>\n",
       "      <td>30</td>\n",
       "      <td>1</td>\n",
       "      <td>399</td>\n",
       "      <td>22.0</td>\n",
       "      <td>1.0</td>\n",
       "    </tr>\n",
       "    <tr>\n",
       "      <th>2</th>\n",
       "      <td>5.3</td>\n",
       "      <td>4</td>\n",
       "      <td>1</td>\n",
       "      <td>32</td>\n",
       "      <td>1</td>\n",
       "      <td>399</td>\n",
       "      <td>24.0</td>\n",
       "      <td>1.0</td>\n",
       "    </tr>\n",
       "    <tr>\n",
       "      <th>3</th>\n",
       "      <td>5.4</td>\n",
       "      <td>4</td>\n",
       "      <td>1</td>\n",
       "      <td>32</td>\n",
       "      <td>1</td>\n",
       "      <td>399</td>\n",
       "      <td>24.0</td>\n",
       "      <td>1.0</td>\n",
       "    </tr>\n",
       "    <tr>\n",
       "      <th>4</th>\n",
       "      <td>5.5</td>\n",
       "      <td>4</td>\n",
       "      <td>1</td>\n",
       "      <td>36</td>\n",
       "      <td>1</td>\n",
       "      <td>399</td>\n",
       "      <td>23.0</td>\n",
       "      <td>1.0</td>\n",
       "    </tr>\n",
       "  </tbody>\n",
       "</table>\n",
       "</div>"
      ],
      "text/plain": [
       "   ball  batting_team  bowling_team  innings_runs  Innings_wickets  \\\n",
       "0   5.1             4             1            30                1   \n",
       "1   5.2             4             1            30                1   \n",
       "2   5.3             4             1            32                1   \n",
       "3   5.4             4             1            32                1   \n",
       "4   5.5             4             1            36                1   \n",
       "\n",
       "   total_score  runs_last_5_overs  wickets_last_5_overs  \n",
       "0          399               26.0                   1.0  \n",
       "1          399               22.0                   1.0  \n",
       "2          399               24.0                   1.0  \n",
       "3          399               24.0                   1.0  \n",
       "4          399               23.0                   1.0  "
      ]
     },
     "execution_count": 21,
     "metadata": {},
     "output_type": "execute_result"
    }
   ],
   "source": [
    "# Encoding the data\n",
    "from sklearn.preprocessing import LabelEncoder, OneHotEncoder\n",
    "\n",
    "le = LabelEncoder()\n",
    "for col in ['batting_team', 'bowling_team']:\n",
    "    world_df2[col] = le.fit_transform(world_df2[col])\n",
    "\n",
    "world_df2.head()"
   ]
  },
  {
   "cell_type": "markdown",
   "id": "1db11652",
   "metadata": {
    "id": "rckes9K_PMZU",
    "papermill": {
     "duration": 0.018645,
     "end_time": "2023-11-27T11:35:17.358776",
     "exception": false,
     "start_time": "2023-11-27T11:35:17.340131",
     "status": "completed"
    },
    "tags": []
   },
   "source": [
    "### **5.2. Performing One Hot Encoding and Column Transformation**\n",
    "> Applying Transformations on all the final features."
   ]
  },
  {
   "cell_type": "code",
   "execution_count": 22,
   "id": "edb0ad5d",
   "metadata": {
    "execution": {
     "iopub.execute_input": "2023-11-27T11:35:17.399266Z",
     "iopub.status.busy": "2023-11-27T11:35:17.398863Z",
     "iopub.status.idle": "2023-11-27T11:35:18.229002Z",
     "shell.execute_reply": "2023-11-27T11:35:18.228224Z"
    },
    "id": "9510329c-f02e-4e5b-86e8-210741b4bad7",
    "outputId": "bd6a6f77-ff25-4f8a-b8ab-b18a231fae8e",
    "papermill": {
     "duration": 0.853442,
     "end_time": "2023-11-27T11:35:18.231578",
     "exception": false,
     "start_time": "2023-11-27T11:35:17.378136",
     "status": "completed"
    },
    "tags": []
   },
   "outputs": [
    {
     "name": "stdout",
     "output_type": "stream",
     "text": [
      "(927972, 30)\n",
      "['batting_team_0', 'batting_team_1', 'batting_team_2', 'batting_team_3', 'batting_team_4', 'batting_team_5', 'batting_team_6', 'batting_team_7', 'batting_team_8', 'batting_team_9', 'batting_team_10', 'batting_team_11', 'bowling_team_0', 'bowling_team_1', 'bowling_team_2', 'bowling_team_3', 'bowling_team_4', 'bowling_team_5', 'bowling_team_6', 'bowling_team_7', 'bowling_team_8', 'bowling_team_9', 'bowling_team_10', 'bowling_team_11', 'ball', 'innings_runs', 'Innings_wickets', 'total_score', 'runs_last_5_overs', 'wickets_last_5_overs']\n"
     ]
    }
   ],
   "source": [
    "from sklearn.preprocessing import OneHotEncoder\n",
    "from sklearn.compose import ColumnTransformer\n",
    "\n",
    "columnTransformer = ColumnTransformer([('encoder', OneHotEncoder(), ['batting_team', 'bowling_team'])], remainder='passthrough')\n",
    "\n",
    "world_array = columnTransformer.fit_transform(world_df2)\n",
    "\n",
    "# Convert the sparse matrix to an array\n",
    "world_array = world_array.toarray()\n",
    "\n",
    "print(world_array.shape)\n",
    "\n",
    "# Get the feature names after transformation from the encoder\n",
    "encoder_feature_names = list(columnTransformer.named_transformers_['encoder'].get_feature_names_out(input_features=['batting_team', 'bowling_team']))\n",
    "\n",
    "# Combine the encoder feature names with the remaining feature names\n",
    "feature_names = encoder_feature_names + ['ball', 'innings_runs', 'Innings_wickets', 'total_score', 'runs_last_5_overs', 'wickets_last_5_overs']\n",
    "\n",
    "print(feature_names)\n"
   ]
  },
  {
   "cell_type": "markdown",
   "id": "8c921d9c",
   "metadata": {
    "id": "21XJy4qPPXm2",
    "papermill": {
     "duration": 0.018443,
     "end_time": "2023-11-27T11:35:18.269418",
     "exception": false,
     "start_time": "2023-11-27T11:35:18.250975",
     "status": "completed"
    },
    "tags": []
   },
   "source": [
    "### **5.3. Save the Numpy Array in a new DataFrame with transformed columns**\n",
    "> Now finally the data is ready for training, save the data into seperate **DataFrame `df`**\n",
    "\n",
    "\n",
    ">**_NOTE:_** After apply transformations, total number of features in Training Data are **_30_**."
   ]
  },
  {
   "cell_type": "code",
   "execution_count": 23,
   "id": "d3ef508f",
   "metadata": {
    "execution": {
     "iopub.execute_input": "2023-11-27T11:35:18.309086Z",
     "iopub.status.busy": "2023-11-27T11:35:18.308059Z",
     "iopub.status.idle": "2023-11-27T11:35:18.312943Z",
     "shell.execute_reply": "2023-11-27T11:35:18.312231Z"
    },
    "id": "679e9c56-48a2-4efd-8609-2f9c0f2907b3",
    "papermill": {
     "duration": 0.026879,
     "end_time": "2023-11-27T11:35:18.314945",
     "exception": false,
     "start_time": "2023-11-27T11:35:18.288066",
     "status": "completed"
    },
    "tags": []
   },
   "outputs": [],
   "source": [
    "df = pd.DataFrame(world_array, columns=feature_names)"
   ]
  },
  {
   "cell_type": "code",
   "execution_count": 24,
   "id": "4fbc243e",
   "metadata": {
    "execution": {
     "iopub.execute_input": "2023-11-27T11:35:18.355057Z",
     "iopub.status.busy": "2023-11-27T11:35:18.354658Z",
     "iopub.status.idle": "2023-11-27T11:35:18.386467Z",
     "shell.execute_reply": "2023-11-27T11:35:18.385253Z"
    },
    "id": "01830934-3440-4438-87cc-b4c3f6e7980c",
    "outputId": "ca2057ad-416f-4739-c43c-f4828a0f22b6",
    "papermill": {
     "duration": 0.054429,
     "end_time": "2023-11-27T11:35:18.388787",
     "exception": false,
     "start_time": "2023-11-27T11:35:18.334358",
     "status": "completed"
    },
    "tags": []
   },
   "outputs": [
    {
     "data": {
      "text/html": [
       "<div>\n",
       "<style scoped>\n",
       "    .dataframe tbody tr th:only-of-type {\n",
       "        vertical-align: middle;\n",
       "    }\n",
       "\n",
       "    .dataframe tbody tr th {\n",
       "        vertical-align: top;\n",
       "    }\n",
       "\n",
       "    .dataframe thead th {\n",
       "        text-align: right;\n",
       "    }\n",
       "</style>\n",
       "<table border=\"1\" class=\"dataframe\">\n",
       "  <thead>\n",
       "    <tr style=\"text-align: right;\">\n",
       "      <th></th>\n",
       "      <th>batting_team_0</th>\n",
       "      <th>batting_team_1</th>\n",
       "      <th>batting_team_2</th>\n",
       "      <th>batting_team_3</th>\n",
       "      <th>batting_team_4</th>\n",
       "      <th>batting_team_5</th>\n",
       "      <th>batting_team_6</th>\n",
       "      <th>batting_team_7</th>\n",
       "      <th>batting_team_8</th>\n",
       "      <th>batting_team_9</th>\n",
       "      <th>...</th>\n",
       "      <th>bowling_team_8</th>\n",
       "      <th>bowling_team_9</th>\n",
       "      <th>bowling_team_10</th>\n",
       "      <th>bowling_team_11</th>\n",
       "      <th>ball</th>\n",
       "      <th>innings_runs</th>\n",
       "      <th>Innings_wickets</th>\n",
       "      <th>total_score</th>\n",
       "      <th>runs_last_5_overs</th>\n",
       "      <th>wickets_last_5_overs</th>\n",
       "    </tr>\n",
       "  </thead>\n",
       "  <tbody>\n",
       "    <tr>\n",
       "      <th>0</th>\n",
       "      <td>0.0</td>\n",
       "      <td>0.0</td>\n",
       "      <td>0.0</td>\n",
       "      <td>0.0</td>\n",
       "      <td>1.0</td>\n",
       "      <td>0.0</td>\n",
       "      <td>0.0</td>\n",
       "      <td>0.0</td>\n",
       "      <td>0.0</td>\n",
       "      <td>0.0</td>\n",
       "      <td>...</td>\n",
       "      <td>0.0</td>\n",
       "      <td>0.0</td>\n",
       "      <td>0.0</td>\n",
       "      <td>0.0</td>\n",
       "      <td>5.1</td>\n",
       "      <td>30.0</td>\n",
       "      <td>1.0</td>\n",
       "      <td>399.0</td>\n",
       "      <td>26.0</td>\n",
       "      <td>1.0</td>\n",
       "    </tr>\n",
       "    <tr>\n",
       "      <th>1</th>\n",
       "      <td>0.0</td>\n",
       "      <td>0.0</td>\n",
       "      <td>0.0</td>\n",
       "      <td>0.0</td>\n",
       "      <td>1.0</td>\n",
       "      <td>0.0</td>\n",
       "      <td>0.0</td>\n",
       "      <td>0.0</td>\n",
       "      <td>0.0</td>\n",
       "      <td>0.0</td>\n",
       "      <td>...</td>\n",
       "      <td>0.0</td>\n",
       "      <td>0.0</td>\n",
       "      <td>0.0</td>\n",
       "      <td>0.0</td>\n",
       "      <td>5.2</td>\n",
       "      <td>30.0</td>\n",
       "      <td>1.0</td>\n",
       "      <td>399.0</td>\n",
       "      <td>22.0</td>\n",
       "      <td>1.0</td>\n",
       "    </tr>\n",
       "    <tr>\n",
       "      <th>2</th>\n",
       "      <td>0.0</td>\n",
       "      <td>0.0</td>\n",
       "      <td>0.0</td>\n",
       "      <td>0.0</td>\n",
       "      <td>1.0</td>\n",
       "      <td>0.0</td>\n",
       "      <td>0.0</td>\n",
       "      <td>0.0</td>\n",
       "      <td>0.0</td>\n",
       "      <td>0.0</td>\n",
       "      <td>...</td>\n",
       "      <td>0.0</td>\n",
       "      <td>0.0</td>\n",
       "      <td>0.0</td>\n",
       "      <td>0.0</td>\n",
       "      <td>5.3</td>\n",
       "      <td>32.0</td>\n",
       "      <td>1.0</td>\n",
       "      <td>399.0</td>\n",
       "      <td>24.0</td>\n",
       "      <td>1.0</td>\n",
       "    </tr>\n",
       "    <tr>\n",
       "      <th>3</th>\n",
       "      <td>0.0</td>\n",
       "      <td>0.0</td>\n",
       "      <td>0.0</td>\n",
       "      <td>0.0</td>\n",
       "      <td>1.0</td>\n",
       "      <td>0.0</td>\n",
       "      <td>0.0</td>\n",
       "      <td>0.0</td>\n",
       "      <td>0.0</td>\n",
       "      <td>0.0</td>\n",
       "      <td>...</td>\n",
       "      <td>0.0</td>\n",
       "      <td>0.0</td>\n",
       "      <td>0.0</td>\n",
       "      <td>0.0</td>\n",
       "      <td>5.4</td>\n",
       "      <td>32.0</td>\n",
       "      <td>1.0</td>\n",
       "      <td>399.0</td>\n",
       "      <td>24.0</td>\n",
       "      <td>1.0</td>\n",
       "    </tr>\n",
       "    <tr>\n",
       "      <th>4</th>\n",
       "      <td>0.0</td>\n",
       "      <td>0.0</td>\n",
       "      <td>0.0</td>\n",
       "      <td>0.0</td>\n",
       "      <td>1.0</td>\n",
       "      <td>0.0</td>\n",
       "      <td>0.0</td>\n",
       "      <td>0.0</td>\n",
       "      <td>0.0</td>\n",
       "      <td>0.0</td>\n",
       "      <td>...</td>\n",
       "      <td>0.0</td>\n",
       "      <td>0.0</td>\n",
       "      <td>0.0</td>\n",
       "      <td>0.0</td>\n",
       "      <td>5.5</td>\n",
       "      <td>36.0</td>\n",
       "      <td>1.0</td>\n",
       "      <td>399.0</td>\n",
       "      <td>23.0</td>\n",
       "      <td>1.0</td>\n",
       "    </tr>\n",
       "  </tbody>\n",
       "</table>\n",
       "<p>5 rows × 30 columns</p>\n",
       "</div>"
      ],
      "text/plain": [
       "   batting_team_0  batting_team_1  batting_team_2  batting_team_3  \\\n",
       "0             0.0             0.0             0.0             0.0   \n",
       "1             0.0             0.0             0.0             0.0   \n",
       "2             0.0             0.0             0.0             0.0   \n",
       "3             0.0             0.0             0.0             0.0   \n",
       "4             0.0             0.0             0.0             0.0   \n",
       "\n",
       "   batting_team_4  batting_team_5  batting_team_6  batting_team_7  \\\n",
       "0             1.0             0.0             0.0             0.0   \n",
       "1             1.0             0.0             0.0             0.0   \n",
       "2             1.0             0.0             0.0             0.0   \n",
       "3             1.0             0.0             0.0             0.0   \n",
       "4             1.0             0.0             0.0             0.0   \n",
       "\n",
       "   batting_team_8  batting_team_9  ...  bowling_team_8  bowling_team_9  \\\n",
       "0             0.0             0.0  ...             0.0             0.0   \n",
       "1             0.0             0.0  ...             0.0             0.0   \n",
       "2             0.0             0.0  ...             0.0             0.0   \n",
       "3             0.0             0.0  ...             0.0             0.0   \n",
       "4             0.0             0.0  ...             0.0             0.0   \n",
       "\n",
       "   bowling_team_10  bowling_team_11  ball  innings_runs  Innings_wickets  \\\n",
       "0              0.0              0.0   5.1          30.0              1.0   \n",
       "1              0.0              0.0   5.2          30.0              1.0   \n",
       "2              0.0              0.0   5.3          32.0              1.0   \n",
       "3              0.0              0.0   5.4          32.0              1.0   \n",
       "4              0.0              0.0   5.5          36.0              1.0   \n",
       "\n",
       "   total_score  runs_last_5_overs  wickets_last_5_overs  \n",
       "0        399.0               26.0                   1.0  \n",
       "1        399.0               22.0                   1.0  \n",
       "2        399.0               24.0                   1.0  \n",
       "3        399.0               24.0                   1.0  \n",
       "4        399.0               23.0                   1.0  \n",
       "\n",
       "[5 rows x 30 columns]"
      ]
     },
     "execution_count": 24,
     "metadata": {},
     "output_type": "execute_result"
    }
   ],
   "source": [
    "# Encoded Data\n",
    "df.head()"
   ]
  },
  {
   "cell_type": "markdown",
   "id": "1e177ede",
   "metadata": {
    "id": "XsS92EI5Pki0",
    "papermill": {
     "duration": 0.019258,
     "end_time": "2023-11-27T11:35:18.427920",
     "exception": false,
     "start_time": "2023-11-27T11:35:18.408662",
     "status": "completed"
    },
    "tags": []
   },
   "source": [
    "## **6. Model Building**\n",
    "> Now that the Training Data is ready the Model developement precess can be initialised."
   ]
  },
  {
   "cell_type": "markdown",
   "id": "a2968e1f",
   "metadata": {
    "id": "q0pBppkRPnZc",
    "papermill": {
     "duration": 0.019088,
     "end_time": "2023-11-27T11:35:18.466513",
     "exception": false,
     "start_time": "2023-11-27T11:35:18.447425",
     "status": "completed"
    },
    "tags": []
   },
   "source": [
    "### **6.1. Prepare Train and Test Data**\n",
    "> The Targeted Feature (Feature to be predicted) is **_`Total Score`_**. So, making it the prediction label."
   ]
  },
  {
   "cell_type": "code",
   "execution_count": 25,
   "id": "bdfdf707",
   "metadata": {
    "execution": {
     "iopub.execute_input": "2023-11-27T11:35:18.507039Z",
     "iopub.status.busy": "2023-11-27T11:35:18.506658Z",
     "iopub.status.idle": "2023-11-27T11:35:18.614048Z",
     "shell.execute_reply": "2023-11-27T11:35:18.613188Z"
    },
    "id": "44b6e2b9-2164-406a-810e-986017df131a",
    "papermill": {
     "duration": 0.130662,
     "end_time": "2023-11-27T11:35:18.616552",
     "exception": false,
     "start_time": "2023-11-27T11:35:18.485890",
     "status": "completed"
    },
    "tags": []
   },
   "outputs": [],
   "source": [
    "features = df.drop(['total_score'], axis=1)\n",
    "labels = df['total_score']"
   ]
  },
  {
   "cell_type": "markdown",
   "id": "8790253f",
   "metadata": {
    "id": "TCX3az5-Pp38",
    "papermill": {
     "duration": 0.019683,
     "end_time": "2023-11-27T11:35:18.655933",
     "exception": false,
     "start_time": "2023-11-27T11:35:18.636250",
     "status": "completed"
    },
    "tags": []
   },
   "source": [
    "> **Spliting the Training Data into _`train`_ & _`test`_**.\n",
    "\n",
    "> **_NOTE:_** Here I considered the default Spliting ratio of **_`80:20`_** between **_`train:test`_** respectively."
   ]
  },
  {
   "cell_type": "code",
   "execution_count": 26,
   "id": "276d20fc",
   "metadata": {
    "execution": {
     "iopub.execute_input": "2023-11-27T11:35:18.696659Z",
     "iopub.status.busy": "2023-11-27T11:35:18.696015Z",
     "iopub.status.idle": "2023-11-27T11:35:19.034483Z",
     "shell.execute_reply": "2023-11-27T11:35:19.033139Z"
    },
    "id": "91f8d89e-9bdf-4d05-b5e3-debfffccd2a8",
    "outputId": "7bfa2cf5-639c-4d20-cae8-958852b8cf5e",
    "papermill": {
     "duration": 0.36159,
     "end_time": "2023-11-27T11:35:19.036852",
     "exception": false,
     "start_time": "2023-11-27T11:35:18.675262",
     "status": "completed"
    },
    "tags": []
   },
   "outputs": [
    {
     "name": "stdout",
     "output_type": "stream",
     "text": [
      "Training Set : (742377, 29)\n",
      "Testing Set : (185595, 29)\n"
     ]
    }
   ],
   "source": [
    "from sklearn.model_selection import train_test_split\n",
    "train_features, test_features, train_labels, test_labels = train_test_split(features, labels, test_size=0.20, shuffle=True)\n",
    "print(f\"Training Set : {train_features.shape}\\nTesting Set : {test_features.shape}\")"
   ]
  },
  {
   "cell_type": "markdown",
   "id": "371be6ea",
   "metadata": {
    "id": "uex1Qh50PxI0",
    "papermill": {
     "duration": 0.019305,
     "end_time": "2023-11-27T11:35:19.076015",
     "exception": false,
     "start_time": "2023-11-27T11:35:19.056710",
     "status": "completed"
    },
    "tags": []
   },
   "source": [
    "### **6.2. Selecting appropiate ML Algorithms**\n",
    "> First, I created a dictionary for multiple models to store.\n",
    "> Then, using the **_`scikit-learn`_** library tested out various Regression Algorithms for their fitting and accuracy scores."
   ]
  },
  {
   "cell_type": "code",
   "execution_count": 27,
   "id": "0082b32a",
   "metadata": {
    "execution": {
     "iopub.execute_input": "2023-11-27T11:35:19.117599Z",
     "iopub.status.busy": "2023-11-27T11:35:19.116658Z",
     "iopub.status.idle": "2023-11-27T11:35:19.122167Z",
     "shell.execute_reply": "2023-11-27T11:35:19.121124Z"
    },
    "id": "469171ec-85ac-48e7-8bd6-589aeb7d1ea0",
    "papermill": {
     "duration": 0.028775,
     "end_time": "2023-11-27T11:35:19.124485",
     "exception": false,
     "start_time": "2023-11-27T11:35:19.095710",
     "status": "completed"
    },
    "tags": []
   },
   "outputs": [],
   "source": [
    "models = dict()"
   ]
  },
  {
   "cell_type": "markdown",
   "id": "dbf48f02",
   "metadata": {
    "id": "kp2G-PHfP5x1",
    "papermill": {
     "duration": 0.019068,
     "end_time": "2023-11-27T11:35:19.163528",
     "exception": false,
     "start_time": "2023-11-27T11:35:19.144460",
     "status": "completed"
    },
    "tags": []
   },
   "source": [
    "#### **6.2.1. Decision Tree Regressor**\n",
    "A machine learning model for regression tasks that predicts continuous values by recursively partitioning the data based on features.\n",
    "\n",
    "**Key Features:**\n",
    "  - Builds a tree structure where each internal node represents a decision based on a feature.\n",
    "  - Splits data to minimize the variance of the target variable within each branch.\n",
    "  - Handles non-linear relationships and interactions between features."
   ]
  },
  {
   "cell_type": "code",
   "execution_count": 28,
   "id": "c134ebd7",
   "metadata": {
    "execution": {
     "iopub.execute_input": "2023-11-27T11:35:19.205270Z",
     "iopub.status.busy": "2023-11-27T11:35:19.204853Z",
     "iopub.status.idle": "2023-11-27T11:35:26.235819Z",
     "shell.execute_reply": "2023-11-27T11:35:26.235004Z"
    },
    "id": "790f6cc9-f43b-4adb-a6db-bd41966498b6",
    "outputId": "84663e76-5163-45a2-ab5d-d5a42335f385",
    "papermill": {
     "duration": 7.054576,
     "end_time": "2023-11-27T11:35:26.237971",
     "exception": false,
     "start_time": "2023-11-27T11:35:19.183395",
     "status": "completed"
    },
    "tags": []
   },
   "outputs": [
    {
     "data": {
      "text/html": [
       "<style>#sk-container-id-1 {color: black;background-color: white;}#sk-container-id-1 pre{padding: 0;}#sk-container-id-1 div.sk-toggleable {background-color: white;}#sk-container-id-1 label.sk-toggleable__label {cursor: pointer;display: block;width: 100%;margin-bottom: 0;padding: 0.3em;box-sizing: border-box;text-align: center;}#sk-container-id-1 label.sk-toggleable__label-arrow:before {content: \"▸\";float: left;margin-right: 0.25em;color: #696969;}#sk-container-id-1 label.sk-toggleable__label-arrow:hover:before {color: black;}#sk-container-id-1 div.sk-estimator:hover label.sk-toggleable__label-arrow:before {color: black;}#sk-container-id-1 div.sk-toggleable__content {max-height: 0;max-width: 0;overflow: hidden;text-align: left;background-color: #f0f8ff;}#sk-container-id-1 div.sk-toggleable__content pre {margin: 0.2em;color: black;border-radius: 0.25em;background-color: #f0f8ff;}#sk-container-id-1 input.sk-toggleable__control:checked~div.sk-toggleable__content {max-height: 200px;max-width: 100%;overflow: auto;}#sk-container-id-1 input.sk-toggleable__control:checked~label.sk-toggleable__label-arrow:before {content: \"▾\";}#sk-container-id-1 div.sk-estimator input.sk-toggleable__control:checked~label.sk-toggleable__label {background-color: #d4ebff;}#sk-container-id-1 div.sk-label input.sk-toggleable__control:checked~label.sk-toggleable__label {background-color: #d4ebff;}#sk-container-id-1 input.sk-hidden--visually {border: 0;clip: rect(1px 1px 1px 1px);clip: rect(1px, 1px, 1px, 1px);height: 1px;margin: -1px;overflow: hidden;padding: 0;position: absolute;width: 1px;}#sk-container-id-1 div.sk-estimator {font-family: monospace;background-color: #f0f8ff;border: 1px dotted black;border-radius: 0.25em;box-sizing: border-box;margin-bottom: 0.5em;}#sk-container-id-1 div.sk-estimator:hover {background-color: #d4ebff;}#sk-container-id-1 div.sk-parallel-item::after {content: \"\";width: 100%;border-bottom: 1px solid gray;flex-grow: 1;}#sk-container-id-1 div.sk-label:hover label.sk-toggleable__label {background-color: #d4ebff;}#sk-container-id-1 div.sk-serial::before {content: \"\";position: absolute;border-left: 1px solid gray;box-sizing: border-box;top: 0;bottom: 0;left: 50%;z-index: 0;}#sk-container-id-1 div.sk-serial {display: flex;flex-direction: column;align-items: center;background-color: white;padding-right: 0.2em;padding-left: 0.2em;position: relative;}#sk-container-id-1 div.sk-item {position: relative;z-index: 1;}#sk-container-id-1 div.sk-parallel {display: flex;align-items: stretch;justify-content: center;background-color: white;position: relative;}#sk-container-id-1 div.sk-item::before, #sk-container-id-1 div.sk-parallel-item::before {content: \"\";position: absolute;border-left: 1px solid gray;box-sizing: border-box;top: 0;bottom: 0;left: 50%;z-index: -1;}#sk-container-id-1 div.sk-parallel-item {display: flex;flex-direction: column;z-index: 1;position: relative;background-color: white;}#sk-container-id-1 div.sk-parallel-item:first-child::after {align-self: flex-end;width: 50%;}#sk-container-id-1 div.sk-parallel-item:last-child::after {align-self: flex-start;width: 50%;}#sk-container-id-1 div.sk-parallel-item:only-child::after {width: 0;}#sk-container-id-1 div.sk-dashed-wrapped {border: 1px dashed gray;margin: 0 0.4em 0.5em 0.4em;box-sizing: border-box;padding-bottom: 0.4em;background-color: white;}#sk-container-id-1 div.sk-label label {font-family: monospace;font-weight: bold;display: inline-block;line-height: 1.2em;}#sk-container-id-1 div.sk-label-container {text-align: center;}#sk-container-id-1 div.sk-container {/* jupyter's `normalize.less` sets `[hidden] { display: none; }` but bootstrap.min.css set `[hidden] { display: none !important; }` so we also need the `!important` here to be able to override the default hidden behavior on the sphinx rendered scikit-learn.org. See: https://github.com/scikit-learn/scikit-learn/issues/21755 */display: inline-block !important;position: relative;}#sk-container-id-1 div.sk-text-repr-fallback {display: none;}</style><div id=\"sk-container-id-1\" class=\"sk-top-container\"><div class=\"sk-text-repr-fallback\"><pre>DecisionTreeRegressor()</pre><b>In a Jupyter environment, please rerun this cell to show the HTML representation or trust the notebook. <br />On GitHub, the HTML representation is unable to render, please try loading this page with nbviewer.org.</b></div><div class=\"sk-container\" hidden><div class=\"sk-item\"><div class=\"sk-estimator sk-toggleable\"><input class=\"sk-toggleable__control sk-hidden--visually\" id=\"sk-estimator-id-1\" type=\"checkbox\" checked><label for=\"sk-estimator-id-1\" class=\"sk-toggleable__label sk-toggleable__label-arrow\">DecisionTreeRegressor</label><div class=\"sk-toggleable__content\"><pre>DecisionTreeRegressor()</pre></div></div></div></div></div>"
      ],
      "text/plain": [
       "DecisionTreeRegressor()"
      ]
     },
     "execution_count": 28,
     "metadata": {},
     "output_type": "execute_result"
    }
   ],
   "source": [
    "from sklearn.tree import DecisionTreeRegressor\n",
    "tree = DecisionTreeRegressor()\n",
    "# Train Model\n",
    "tree.fit(train_features, train_labels)"
   ]
  },
  {
   "cell_type": "code",
   "execution_count": 29,
   "id": "81b57b65",
   "metadata": {
    "execution": {
     "iopub.execute_input": "2023-11-27T11:35:26.279131Z",
     "iopub.status.busy": "2023-11-27T11:35:26.278445Z",
     "iopub.status.idle": "2023-11-27T11:35:26.964105Z",
     "shell.execute_reply": "2023-11-27T11:35:26.962891Z"
    },
    "id": "bb890d12-b91f-43e5-9c44-5fb1a33b552d",
    "outputId": "f36072fc-58e9-4e78-c0de-631496150e52",
    "papermill": {
     "duration": 0.709034,
     "end_time": "2023-11-27T11:35:26.966614",
     "exception": false,
     "start_time": "2023-11-27T11:35:26.257580",
     "status": "completed"
    },
    "tags": []
   },
   "outputs": [
    {
     "name": "stdout",
     "output_type": "stream",
     "text": [
      "Train Score : 99.74%\n",
      "Test Score : 72.75%\n"
     ]
    }
   ],
   "source": [
    "# Evaluate Model\n",
    "train_score_tree = str(tree.score(train_features, train_labels) * 100)\n",
    "test_score_tree = str(tree.score(test_features, test_labels) * 100)\n",
    "print(f'Train Score : {train_score_tree[:5]}%\\nTest Score : {test_score_tree[:5]}%')\n",
    "models[\"tree\"] = test_score_tree"
   ]
  },
  {
   "cell_type": "code",
   "execution_count": 30,
   "id": "7edbe61b",
   "metadata": {
    "execution": {
     "iopub.execute_input": "2023-11-27T11:35:27.009388Z",
     "iopub.status.busy": "2023-11-27T11:35:27.008542Z",
     "iopub.status.idle": "2023-11-27T11:35:27.429176Z",
     "shell.execute_reply": "2023-11-27T11:35:27.427872Z"
    },
    "id": "003e15be-d442-470f-bf35-1ab2cd39246f",
    "outputId": "bc9c97b2-641e-4d2c-b7bb-41849caf001d",
    "papermill": {
     "duration": 0.44465,
     "end_time": "2023-11-27T11:35:27.431941",
     "exception": false,
     "start_time": "2023-11-27T11:35:26.987291",
     "status": "completed"
    },
    "tags": []
   },
   "outputs": [
    {
     "name": "stdout",
     "output_type": "stream",
     "text": [
      "---- Decision Tree Regressor - Model Evaluation ----\n",
      "Mean Absolute Error (MAE): 12.608448503461837\n",
      "Mean Squared Error (MSE): 1043.2580705897847\n",
      "Root Mean Squared Error (RMSE): 32.29950573290224\n"
     ]
    }
   ],
   "source": [
    "from sklearn.metrics import mean_absolute_error as mae, mean_squared_error as mse\n",
    "print(\"---- Decision Tree Regressor - Model Evaluation ----\")\n",
    "print(\"Mean Absolute Error (MAE): {}\".format(mae(test_labels, tree.predict(test_features))))\n",
    "print(\"Mean Squared Error (MSE): {}\".format(mse(test_labels, tree.predict(test_features))))\n",
    "print(\"Root Mean Squared Error (RMSE): {}\".format(np.sqrt(mse(test_labels, tree.predict(test_features)))))"
   ]
  },
  {
   "cell_type": "markdown",
   "id": "0070a5ad",
   "metadata": {
    "id": "lBjZHGmqQQa0",
    "papermill": {
     "duration": 0.019572,
     "end_time": "2023-11-27T11:35:27.471902",
     "exception": false,
     "start_time": "2023-11-27T11:35:27.452330",
     "status": "completed"
    },
    "tags": []
   },
   "source": [
    "#### **6.2.2. Linear Regression**\n",
    "A linear modeling algorithm that fits a linear relationship between input features and target variable.\n",
    "\n",
    "**Key Features:**\n",
    "- Assumes a linear relationship between features and target.\n",
    "- Estimates coefficients to minimize the sum of squared differences between predicted and actual values.\n",
    "- Provides interpretable coefficients indicating the impact of each feature."
   ]
  },
  {
   "cell_type": "code",
   "execution_count": 31,
   "id": "afb39ab9",
   "metadata": {
    "execution": {
     "iopub.execute_input": "2023-11-27T11:35:27.513689Z",
     "iopub.status.busy": "2023-11-27T11:35:27.513280Z",
     "iopub.status.idle": "2023-11-27T11:35:28.972987Z",
     "shell.execute_reply": "2023-11-27T11:35:28.971588Z"
    },
    "id": "uk3cnhCRP-6B",
    "papermill": {
     "duration": 1.484567,
     "end_time": "2023-11-27T11:35:28.976284",
     "exception": false,
     "start_time": "2023-11-27T11:35:27.491717",
     "status": "completed"
    },
    "tags": []
   },
   "outputs": [
    {
     "data": {
      "text/html": [
       "<style>#sk-container-id-2 {color: black;background-color: white;}#sk-container-id-2 pre{padding: 0;}#sk-container-id-2 div.sk-toggleable {background-color: white;}#sk-container-id-2 label.sk-toggleable__label {cursor: pointer;display: block;width: 100%;margin-bottom: 0;padding: 0.3em;box-sizing: border-box;text-align: center;}#sk-container-id-2 label.sk-toggleable__label-arrow:before {content: \"▸\";float: left;margin-right: 0.25em;color: #696969;}#sk-container-id-2 label.sk-toggleable__label-arrow:hover:before {color: black;}#sk-container-id-2 div.sk-estimator:hover label.sk-toggleable__label-arrow:before {color: black;}#sk-container-id-2 div.sk-toggleable__content {max-height: 0;max-width: 0;overflow: hidden;text-align: left;background-color: #f0f8ff;}#sk-container-id-2 div.sk-toggleable__content pre {margin: 0.2em;color: black;border-radius: 0.25em;background-color: #f0f8ff;}#sk-container-id-2 input.sk-toggleable__control:checked~div.sk-toggleable__content {max-height: 200px;max-width: 100%;overflow: auto;}#sk-container-id-2 input.sk-toggleable__control:checked~label.sk-toggleable__label-arrow:before {content: \"▾\";}#sk-container-id-2 div.sk-estimator input.sk-toggleable__control:checked~label.sk-toggleable__label {background-color: #d4ebff;}#sk-container-id-2 div.sk-label input.sk-toggleable__control:checked~label.sk-toggleable__label {background-color: #d4ebff;}#sk-container-id-2 input.sk-hidden--visually {border: 0;clip: rect(1px 1px 1px 1px);clip: rect(1px, 1px, 1px, 1px);height: 1px;margin: -1px;overflow: hidden;padding: 0;position: absolute;width: 1px;}#sk-container-id-2 div.sk-estimator {font-family: monospace;background-color: #f0f8ff;border: 1px dotted black;border-radius: 0.25em;box-sizing: border-box;margin-bottom: 0.5em;}#sk-container-id-2 div.sk-estimator:hover {background-color: #d4ebff;}#sk-container-id-2 div.sk-parallel-item::after {content: \"\";width: 100%;border-bottom: 1px solid gray;flex-grow: 1;}#sk-container-id-2 div.sk-label:hover label.sk-toggleable__label {background-color: #d4ebff;}#sk-container-id-2 div.sk-serial::before {content: \"\";position: absolute;border-left: 1px solid gray;box-sizing: border-box;top: 0;bottom: 0;left: 50%;z-index: 0;}#sk-container-id-2 div.sk-serial {display: flex;flex-direction: column;align-items: center;background-color: white;padding-right: 0.2em;padding-left: 0.2em;position: relative;}#sk-container-id-2 div.sk-item {position: relative;z-index: 1;}#sk-container-id-2 div.sk-parallel {display: flex;align-items: stretch;justify-content: center;background-color: white;position: relative;}#sk-container-id-2 div.sk-item::before, #sk-container-id-2 div.sk-parallel-item::before {content: \"\";position: absolute;border-left: 1px solid gray;box-sizing: border-box;top: 0;bottom: 0;left: 50%;z-index: -1;}#sk-container-id-2 div.sk-parallel-item {display: flex;flex-direction: column;z-index: 1;position: relative;background-color: white;}#sk-container-id-2 div.sk-parallel-item:first-child::after {align-self: flex-end;width: 50%;}#sk-container-id-2 div.sk-parallel-item:last-child::after {align-self: flex-start;width: 50%;}#sk-container-id-2 div.sk-parallel-item:only-child::after {width: 0;}#sk-container-id-2 div.sk-dashed-wrapped {border: 1px dashed gray;margin: 0 0.4em 0.5em 0.4em;box-sizing: border-box;padding-bottom: 0.4em;background-color: white;}#sk-container-id-2 div.sk-label label {font-family: monospace;font-weight: bold;display: inline-block;line-height: 1.2em;}#sk-container-id-2 div.sk-label-container {text-align: center;}#sk-container-id-2 div.sk-container {/* jupyter's `normalize.less` sets `[hidden] { display: none; }` but bootstrap.min.css set `[hidden] { display: none !important; }` so we also need the `!important` here to be able to override the default hidden behavior on the sphinx rendered scikit-learn.org. See: https://github.com/scikit-learn/scikit-learn/issues/21755 */display: inline-block !important;position: relative;}#sk-container-id-2 div.sk-text-repr-fallback {display: none;}</style><div id=\"sk-container-id-2\" class=\"sk-top-container\"><div class=\"sk-text-repr-fallback\"><pre>LinearRegression()</pre><b>In a Jupyter environment, please rerun this cell to show the HTML representation or trust the notebook. <br />On GitHub, the HTML representation is unable to render, please try loading this page with nbviewer.org.</b></div><div class=\"sk-container\" hidden><div class=\"sk-item\"><div class=\"sk-estimator sk-toggleable\"><input class=\"sk-toggleable__control sk-hidden--visually\" id=\"sk-estimator-id-2\" type=\"checkbox\" checked><label for=\"sk-estimator-id-2\" class=\"sk-toggleable__label sk-toggleable__label-arrow\">LinearRegression</label><div class=\"sk-toggleable__content\"><pre>LinearRegression()</pre></div></div></div></div></div>"
      ],
      "text/plain": [
       "LinearRegression()"
      ]
     },
     "execution_count": 31,
     "metadata": {},
     "output_type": "execute_result"
    }
   ],
   "source": [
    "from sklearn.linear_model import LinearRegression\n",
    "\n",
    "linreg = LinearRegression()\n",
    "\n",
    "# Train Model\n",
    "linreg.fit(train_features, train_labels)"
   ]
  },
  {
   "cell_type": "code",
   "execution_count": 32,
   "id": "07170c9c",
   "metadata": {
    "execution": {
     "iopub.execute_input": "2023-11-27T11:35:29.021758Z",
     "iopub.status.busy": "2023-11-27T11:35:29.021330Z",
     "iopub.status.idle": "2023-11-27T11:35:29.089775Z",
     "shell.execute_reply": "2023-11-27T11:35:29.088558Z"
    },
    "id": "2DQKxHteQHrr",
    "papermill": {
     "duration": 0.093767,
     "end_time": "2023-11-27T11:35:29.092838",
     "exception": false,
     "start_time": "2023-11-27T11:35:28.999071",
     "status": "completed"
    },
    "tags": []
   },
   "outputs": [
    {
     "name": "stdout",
     "output_type": "stream",
     "text": [
      "Train Score : 44.14%\n",
      "Test Score : 44.24%\n"
     ]
    }
   ],
   "source": [
    "# Evaluate Model\n",
    "train_score_linreg = str(linreg.score(train_features, train_labels) * 100)\n",
    "test_score_linreg = str(linreg.score(test_features, test_labels) * 100)\n",
    "print(f'Train Score : {train_score_linreg[:5]}%\\nTest Score : {test_score_linreg[:5]}%')\n",
    "models[\"linreg\"] = test_score_linreg"
   ]
  },
  {
   "cell_type": "code",
   "execution_count": 33,
   "id": "f22ff7bd",
   "metadata": {
    "execution": {
     "iopub.execute_input": "2023-11-27T11:35:29.162323Z",
     "iopub.status.busy": "2023-11-27T11:35:29.161764Z",
     "iopub.status.idle": "2023-11-27T11:35:29.212635Z",
     "shell.execute_reply": "2023-11-27T11:35:29.211531Z"
    },
    "id": "JwQQII8DQOH2",
    "papermill": {
     "duration": 0.089296,
     "end_time": "2023-11-27T11:35:29.215753",
     "exception": false,
     "start_time": "2023-11-27T11:35:29.126457",
     "status": "completed"
    },
    "tags": []
   },
   "outputs": [
    {
     "name": "stdout",
     "output_type": "stream",
     "text": [
      "---- Linear Regression - Model Evaluation ----\n",
      "Mean Absolute Error (MAE): 35.382204543950856\n",
      "Mean Squared Error (MSE): 2134.9417735680945\n",
      "Root Mean Squared Error (RMSE): 46.20543013075513\n"
     ]
    }
   ],
   "source": [
    "print(\"---- Linear Regression - Model Evaluation ----\")\n",
    "print(\"Mean Absolute Error (MAE): {}\".format(mae(test_labels, linreg.predict(test_features))))\n",
    "print(\"Mean Squared Error (MSE): {}\".format(mse(test_labels, linreg.predict(test_features))))\n",
    "print(\"Root Mean Squared Error (RMSE): {}\".format(np.sqrt(mse(test_labels, linreg.predict(test_features)))))"
   ]
  },
  {
   "cell_type": "markdown",
   "id": "5b1a7f81",
   "metadata": {
    "id": "vNuKNw_zQWC6",
    "papermill": {
     "duration": 0.033041,
     "end_time": "2023-11-27T11:35:29.282447",
     "exception": false,
     "start_time": "2023-11-27T11:35:29.249406",
     "status": "completed"
    },
    "tags": []
   },
   "source": [
    "#### **6.2.3. Random Forest Regression**\n",
    "An ensemble learning model that fits multiple decision tree regressors on various sub-samples of the dataset and averages their predictions.\n",
    "\n",
    "**Key Features:**\n",
    "- Builds a collection of decision trees to improve prediction accuracy and control overfitting.\n",
    "- Each tree is trained on a random subset of data and features, enhancing robustness.\n",
    "- Provides feature importance scores based on how much each feature contributes to predictions."
   ]
  },
  {
   "cell_type": "code",
   "execution_count": 34,
   "id": "179e6629",
   "metadata": {
    "execution": {
     "iopub.execute_input": "2023-11-27T11:35:29.343540Z",
     "iopub.status.busy": "2023-11-27T11:35:29.343097Z",
     "iopub.status.idle": "2023-11-27T11:43:46.829566Z",
     "shell.execute_reply": "2023-11-27T11:43:46.828443Z"
    },
    "id": "2dc495a7-3606-419a-954c-bb733228f321",
    "outputId": "2ab32a75-6d70-4e30-ef2c-775473005cfa",
    "papermill": {
     "duration": 497.531883,
     "end_time": "2023-11-27T11:43:46.847754",
     "exception": false,
     "start_time": "2023-11-27T11:35:29.315871",
     "status": "completed"
    },
    "tags": []
   },
   "outputs": [
    {
     "data": {
      "text/html": [
       "<style>#sk-container-id-3 {color: black;background-color: white;}#sk-container-id-3 pre{padding: 0;}#sk-container-id-3 div.sk-toggleable {background-color: white;}#sk-container-id-3 label.sk-toggleable__label {cursor: pointer;display: block;width: 100%;margin-bottom: 0;padding: 0.3em;box-sizing: border-box;text-align: center;}#sk-container-id-3 label.sk-toggleable__label-arrow:before {content: \"▸\";float: left;margin-right: 0.25em;color: #696969;}#sk-container-id-3 label.sk-toggleable__label-arrow:hover:before {color: black;}#sk-container-id-3 div.sk-estimator:hover label.sk-toggleable__label-arrow:before {color: black;}#sk-container-id-3 div.sk-toggleable__content {max-height: 0;max-width: 0;overflow: hidden;text-align: left;background-color: #f0f8ff;}#sk-container-id-3 div.sk-toggleable__content pre {margin: 0.2em;color: black;border-radius: 0.25em;background-color: #f0f8ff;}#sk-container-id-3 input.sk-toggleable__control:checked~div.sk-toggleable__content {max-height: 200px;max-width: 100%;overflow: auto;}#sk-container-id-3 input.sk-toggleable__control:checked~label.sk-toggleable__label-arrow:before {content: \"▾\";}#sk-container-id-3 div.sk-estimator input.sk-toggleable__control:checked~label.sk-toggleable__label {background-color: #d4ebff;}#sk-container-id-3 div.sk-label input.sk-toggleable__control:checked~label.sk-toggleable__label {background-color: #d4ebff;}#sk-container-id-3 input.sk-hidden--visually {border: 0;clip: rect(1px 1px 1px 1px);clip: rect(1px, 1px, 1px, 1px);height: 1px;margin: -1px;overflow: hidden;padding: 0;position: absolute;width: 1px;}#sk-container-id-3 div.sk-estimator {font-family: monospace;background-color: #f0f8ff;border: 1px dotted black;border-radius: 0.25em;box-sizing: border-box;margin-bottom: 0.5em;}#sk-container-id-3 div.sk-estimator:hover {background-color: #d4ebff;}#sk-container-id-3 div.sk-parallel-item::after {content: \"\";width: 100%;border-bottom: 1px solid gray;flex-grow: 1;}#sk-container-id-3 div.sk-label:hover label.sk-toggleable__label {background-color: #d4ebff;}#sk-container-id-3 div.sk-serial::before {content: \"\";position: absolute;border-left: 1px solid gray;box-sizing: border-box;top: 0;bottom: 0;left: 50%;z-index: 0;}#sk-container-id-3 div.sk-serial {display: flex;flex-direction: column;align-items: center;background-color: white;padding-right: 0.2em;padding-left: 0.2em;position: relative;}#sk-container-id-3 div.sk-item {position: relative;z-index: 1;}#sk-container-id-3 div.sk-parallel {display: flex;align-items: stretch;justify-content: center;background-color: white;position: relative;}#sk-container-id-3 div.sk-item::before, #sk-container-id-3 div.sk-parallel-item::before {content: \"\";position: absolute;border-left: 1px solid gray;box-sizing: border-box;top: 0;bottom: 0;left: 50%;z-index: -1;}#sk-container-id-3 div.sk-parallel-item {display: flex;flex-direction: column;z-index: 1;position: relative;background-color: white;}#sk-container-id-3 div.sk-parallel-item:first-child::after {align-self: flex-end;width: 50%;}#sk-container-id-3 div.sk-parallel-item:last-child::after {align-self: flex-start;width: 50%;}#sk-container-id-3 div.sk-parallel-item:only-child::after {width: 0;}#sk-container-id-3 div.sk-dashed-wrapped {border: 1px dashed gray;margin: 0 0.4em 0.5em 0.4em;box-sizing: border-box;padding-bottom: 0.4em;background-color: white;}#sk-container-id-3 div.sk-label label {font-family: monospace;font-weight: bold;display: inline-block;line-height: 1.2em;}#sk-container-id-3 div.sk-label-container {text-align: center;}#sk-container-id-3 div.sk-container {/* jupyter's `normalize.less` sets `[hidden] { display: none; }` but bootstrap.min.css set `[hidden] { display: none !important; }` so we also need the `!important` here to be able to override the default hidden behavior on the sphinx rendered scikit-learn.org. See: https://github.com/scikit-learn/scikit-learn/issues/21755 */display: inline-block !important;position: relative;}#sk-container-id-3 div.sk-text-repr-fallback {display: none;}</style><div id=\"sk-container-id-3\" class=\"sk-top-container\"><div class=\"sk-text-repr-fallback\"><pre>RandomForestRegressor()</pre><b>In a Jupyter environment, please rerun this cell to show the HTML representation or trust the notebook. <br />On GitHub, the HTML representation is unable to render, please try loading this page with nbviewer.org.</b></div><div class=\"sk-container\" hidden><div class=\"sk-item\"><div class=\"sk-estimator sk-toggleable\"><input class=\"sk-toggleable__control sk-hidden--visually\" id=\"sk-estimator-id-3\" type=\"checkbox\" checked><label for=\"sk-estimator-id-3\" class=\"sk-toggleable__label sk-toggleable__label-arrow\">RandomForestRegressor</label><div class=\"sk-toggleable__content\"><pre>RandomForestRegressor()</pre></div></div></div></div></div>"
      ],
      "text/plain": [
       "RandomForestRegressor()"
      ]
     },
     "execution_count": 34,
     "metadata": {},
     "output_type": "execute_result"
    }
   ],
   "source": [
    "from sklearn.ensemble import RandomForestRegressor\n",
    "forest = RandomForestRegressor()\n",
    "# Train Model\n",
    "forest.fit(train_features, train_labels)"
   ]
  },
  {
   "cell_type": "code",
   "execution_count": 35,
   "id": "8b2ca40e",
   "metadata": {
    "execution": {
     "iopub.execute_input": "2023-11-27T11:43:46.890619Z",
     "iopub.status.busy": "2023-11-27T11:43:46.889746Z",
     "iopub.status.idle": "2023-11-27T11:44:58.809488Z",
     "shell.execute_reply": "2023-11-27T11:44:58.808365Z"
    },
    "id": "28ed44f3-b5a7-4547-a779-a5662230bbf3",
    "outputId": "8b888859-23d0-4000-d223-e2a7b58d516d",
    "papermill": {
     "duration": 71.962912,
     "end_time": "2023-11-27T11:44:58.830722",
     "exception": false,
     "start_time": "2023-11-27T11:43:46.867810",
     "status": "completed"
    },
    "tags": []
   },
   "outputs": [
    {
     "name": "stdout",
     "output_type": "stream",
     "text": [
      "Train Score : 97.91%\n",
      "Test Score : 86.41%\n"
     ]
    }
   ],
   "source": [
    "train_score_forest = str(forest.score(train_features, train_labels)*100)\n",
    "test_score_forest = str(forest.score(test_features, test_labels)*100)\n",
    "print(f'Train Score : {train_score_forest[:5]}%\\nTest Score : {test_score_forest[:5]}%')\n",
    "models[\"forest\"] = test_score_forest"
   ]
  },
  {
   "cell_type": "code",
   "execution_count": 36,
   "id": "10c0bbfe",
   "metadata": {
    "execution": {
     "iopub.execute_input": "2023-11-27T11:44:58.873248Z",
     "iopub.status.busy": "2023-11-27T11:44:58.872832Z",
     "iopub.status.idle": "2023-11-27T11:45:47.317500Z",
     "shell.execute_reply": "2023-11-27T11:45:47.316016Z"
    },
    "id": "8482f214-611a-4e2f-9fc8-42f9f6822f1e",
    "outputId": "2be2580c-af82-413b-a8e0-a4854aebcce9",
    "papermill": {
     "duration": 48.469703,
     "end_time": "2023-11-27T11:45:47.320806",
     "exception": false,
     "start_time": "2023-11-27T11:44:58.851103",
     "status": "completed"
    },
    "tags": []
   },
   "outputs": [
    {
     "name": "stdout",
     "output_type": "stream",
     "text": [
      "---- Random Forest Regression - Model Evaluation ----\n",
      "Mean Absolute Error (MAE): 13.285272015843026\n",
      "Mean Squared Error (MSE): 520.231758532965\n",
      "Root Mean Squared Error (RMSE): 22.808589577897294\n"
     ]
    }
   ],
   "source": [
    "print(\"---- Random Forest Regression - Model Evaluation ----\")\n",
    "print(\"Mean Absolute Error (MAE): {}\".format(mae(test_labels, forest.predict(test_features))))\n",
    "print(\"Mean Squared Error (MSE): {}\".format(mse(test_labels, forest.predict(test_features))))\n",
    "print(\"Root Mean Squared Error (RMSE): {}\".format(np.sqrt(mse(test_labels, forest.predict(test_features)))))"
   ]
  },
  {
   "cell_type": "markdown",
   "id": "41a6c44c",
   "metadata": {
    "id": "t41_Z0-bQcPo",
    "papermill": {
     "duration": 0.022596,
     "end_time": "2023-11-27T11:45:47.365449",
     "exception": false,
     "start_time": "2023-11-27T11:45:47.342853",
     "status": "completed"
    },
    "tags": []
   },
   "source": [
    "### **6.3. Best Model**\n",
    "> Out of the above models, lets plot the accuracies of them to know the best model for prediction of accurate scores."
   ]
  },
  {
   "cell_type": "code",
   "execution_count": 37,
   "id": "43846f83",
   "metadata": {
    "execution": {
     "iopub.execute_input": "2023-11-27T11:45:47.411800Z",
     "iopub.status.busy": "2023-11-27T11:45:47.410376Z",
     "iopub.status.idle": "2023-11-27T11:45:47.583539Z",
     "shell.execute_reply": "2023-11-27T11:45:47.581941Z"
    },
    "id": "6e848397-ba8a-490a-9931-505e2a4a3718",
    "outputId": "3ffe8748-82ad-49eb-c782-3b0b0fffdb45",
    "papermill": {
     "duration": 0.199122,
     "end_time": "2023-11-27T11:45:47.586302",
     "exception": false,
     "start_time": "2023-11-27T11:45:47.387180",
     "status": "completed"
    },
    "tags": []
   },
   "outputs": [
    {
     "data": {
      "text/plain": [
       "<BarContainer object of 3 artists>"
      ]
     },
     "execution_count": 37,
     "metadata": {},
     "output_type": "execute_result"
    },
    {
     "data": {
      "image/png": "[encoded data removed]",
      "text/plain": [
       "<Figure size 640x480 with 1 Axes>"
      ]
     },
     "metadata": {},
     "output_type": "display_data"
    }
   ],
   "source": [
    "import matplotlib.pyplot as plt\n",
    "\n",
    "model_names = list(models.keys())\n",
    "accuracy = list(map(float, models.values()))\n",
    "\n",
    "# creating the bar plot\n",
    "plt.bar(model_names, accuracy)"
   ]
  },
  {
   "cell_type": "markdown",
   "id": "d480c06c",
   "metadata": {
    "id": "H7Et_-pKQkYX",
    "papermill": {
     "duration": 0.021888,
     "end_time": "2023-11-27T11:45:47.631169",
     "exception": false,
     "start_time": "2023-11-27T11:45:47.609281",
     "status": "completed"
    },
    "tags": []
   },
   "source": [
    "From above, we can see that **Random Forest** performed the best, followed by **Decision Tree**. So we will be choosing Random Forest for the final model."
   ]
  },
  {
   "cell_type": "markdown",
   "id": "14402827",
   "metadata": {
    "id": "Un5vfisaQnso",
    "papermill": {
     "duration": 0.021677,
     "end_time": "2023-11-27T11:45:47.676104",
     "exception": false,
     "start_time": "2023-11-27T11:45:47.654427",
     "status": "completed"
    },
    "tags": []
   },
   "source": [
    "## **7. Predictions**\n",
    "> Create a function **_`score_predict`_**, which creates a **_`numpy prediction array`_** out of the input features."
   ]
  },
  {
   "cell_type": "code",
   "execution_count": 38,
   "id": "8d69185d",
   "metadata": {
    "execution": {
     "iopub.execute_input": "2023-11-27T11:45:47.722112Z",
     "iopub.status.busy": "2023-11-27T11:45:47.721640Z",
     "iopub.status.idle": "2023-11-27T11:45:47.741128Z",
     "shell.execute_reply": "2023-11-27T11:45:47.739950Z"
    },
    "id": "d949c3cd-f797-40f7-a432-c6b799d36ece",
    "papermill": {
     "duration": 0.045782,
     "end_time": "2023-11-27T11:45:47.743818",
     "exception": false,
     "start_time": "2023-11-27T11:45:47.698036",
     "status": "completed"
    },
    "tags": []
   },
   "outputs": [],
   "source": [
    "def score_predict(batting_team, bowling_team, runs, wickets, overs, runs_last_5_overs, wickets_last_5_overs, model=forest):\n",
    "    prediction_array = []\n",
    "  # Batting Team\n",
    "    if batting_team == 'Afghanistan':\n",
    "        prediction_array = prediction_array + [1,0,0,0,0,0,0,0,0,0,0,0]\n",
    "    elif batting_team == 'Australia':\n",
    "        prediction_array = prediction_array + [0,1,0,0,0,0,0,0,0,0,0,0]\n",
    "    elif batting_team == 'Bangladesh':\n",
    "        prediction_array = prediction_array + [0,0,1,0,0,0,0,0,0,0,0,0]\n",
    "    elif batting_team == 'England':\n",
    "        prediction_array = prediction_array + [0,0,0,1,0,0,0,0,0,0,0,0]\n",
    "    elif batting_team == 'India':\n",
    "        prediction_array = prediction_array + [0,0,0,0,1,0,0,0,0,0,0,0]\n",
    "    elif batting_team == 'Ireland':\n",
    "        prediction_array = prediction_array + [0,0,0,0,0,1,0,0,0,0,0,0]\n",
    "    elif batting_team == 'New Zealand':\n",
    "        prediction_array = prediction_array + [0,0,0,0,0,0,1,0,0,0,0,0]\n",
    "    elif batting_team == 'Pakistan':\n",
    "        prediction_array = prediction_array + [0,0,0,0,0,0,0,1,0,0,0,0]\n",
    "    elif batting_team == 'South Africa':\n",
    "        prediction_array = prediction_array + [0,0,0,0,0,0,0,0,1,0,0,0]\n",
    "    elif batting_team == 'Sri Lanka':\n",
    "        prediction_array = prediction_array + [0,0,0,0,0,0,0,0,0,1,0,0]\n",
    "    elif batting_team == 'West Indies':\n",
    "        prediction_array = prediction_array + [0,0,0,0,0,0,0,0,0,0,1,0]\n",
    "    elif batting_team == 'Zimbabwe':\n",
    "        prediction_array = prediction_array + [0,0,0,0,0,0,0,0,0,0,0,1]\n",
    "  # Bowling Team\n",
    "    if bowling_team == 'Afghanistan':\n",
    "        prediction_array = prediction_array + [1,0,0,0,0,0,0,0,0,0,0,0]\n",
    "    elif bowling_team == 'Australia':\n",
    "        prediction_array = prediction_array + [0,1,0,0,0,0,0,0,0,0,0,0]\n",
    "    elif bowling_team == 'Bangladesh':\n",
    "        prediction_array = prediction_array + [0,0,1,0,0,0,0,0,0,0,0,0]\n",
    "    elif bowling_team == 'England':\n",
    "        prediction_array = prediction_array + [0,0,0,1,0,0,0,0,0,0,0,0]\n",
    "    elif bowling_team == 'India':\n",
    "        prediction_array = prediction_array + [0,0,0,0,1,0,0,0,0,0,0,0]\n",
    "    elif bowling_team == 'Ireland':\n",
    "        prediction_array = prediction_array + [0,0,0,0,0,1,0,0,0,0,0,0]\n",
    "    elif bowling_team == 'New Zealand':\n",
    "        prediction_array = prediction_array + [0,0,0,0,0,0,1,0,0,0,0,0]\n",
    "    elif bowling_team == 'Pakistan':\n",
    "        prediction_array = prediction_array + [0,0,0,0,0,0,0,1,0,0,0,0]\n",
    "    elif bowling_team == 'South Africa':\n",
    "        prediction_array = prediction_array + [0,0,0,0,0,0,0,0,1,0,0,0]\n",
    "    elif bowling_team == 'Sri Lanka':\n",
    "        prediction_array = prediction_array + [0,0,0,0,0,0,0,0,0,1,0,0]\n",
    "    elif bowling_team == 'West Indies':\n",
    "        prediction_array = prediction_array + [0,0,0,0,0,0,0,0,0,0,1,0]\n",
    "    elif bowling_team == 'Zimbabwe':\n",
    "        prediction_array = prediction_array + [0,0,0,0,0,0,0,0,0,0,0,1]\n",
    "\n",
    "    prediction_array = prediction_array + [overs, runs, wickets, runs_last_5_overs, wickets_last_5_overs]\n",
    "    prediction_array = np.array([prediction_array])\n",
    "    pred = model.predict(prediction_array)\n",
    "    return int(round(pred[0]))"
   ]
  },
  {
   "cell_type": "markdown",
   "id": "40e146e3",
   "metadata": {
    "id": "97xI3pfNQrec",
    "papermill": {
     "duration": 0.022369,
     "end_time": "2023-11-27T11:45:47.788763",
     "exception": false,
     "start_time": "2023-11-27T11:45:47.766394",
     "status": "completed"
    },
    "tags": []
   },
   "source": [
    "### **7.1. Testing the Model's predictions**\n",
    "#### **Test 1**\n",
    "    - Batting Team : **Australia**\n",
    "    - Bowling Team : **India**\n",
    "    - Final Score : **217**"
   ]
  },
  {
   "cell_type": "code",
   "execution_count": 39,
   "id": "87625689",
   "metadata": {
    "execution": {
     "iopub.execute_input": "2023-11-27T11:45:47.836546Z",
     "iopub.status.busy": "2023-11-27T11:45:47.836065Z",
     "iopub.status.idle": "2023-11-27T11:45:47.852024Z",
     "shell.execute_reply": "2023-11-27T11:45:47.850947Z"
    },
    "id": "0802ab63-917d-46ac-a64f-55609c345427",
    "outputId": "3b2135b6-c616-4acb-dd1d-fde04df1cbec",
    "papermill": {
     "duration": 0.043012,
     "end_time": "2023-11-27T11:45:47.854483",
     "exception": false,
     "start_time": "2023-11-27T11:45:47.811471",
     "status": "completed"
    },
    "tags": []
   },
   "outputs": [
    {
     "name": "stdout",
     "output_type": "stream",
     "text": [
      "Predicted Score : 211 || Actual Score : 217\n"
     ]
    },
    {
     "name": "stderr",
     "output_type": "stream",
     "text": [
      "/opt/conda/lib/python3.10/site-packages/sklearn/base.py:439: UserWarning: X does not have valid feature names, but RandomForestRegressor was fitted with feature names\n",
      "  warnings.warn(\n"
     ]
    }
   ],
   "source": [
    "batting_team='Australia'\n",
    "bowling_team='India'\n",
    "score = score_predict(batting_team, bowling_team, runs=192, wickets=9, overs=26.3, runs_last_5_overs= 26, wickets_last_5_overs=1)\n",
    "print(f'Predicted Score : {score} || Actual Score : 217')"
   ]
  },
  {
   "cell_type": "markdown",
   "id": "ab5d25b0",
   "metadata": {
    "id": "Aga0_uNfREmV",
    "papermill": {
     "duration": 0.022061,
     "end_time": "2023-11-27T11:45:47.898985",
     "exception": false,
     "start_time": "2023-11-27T11:45:47.876924",
     "status": "completed"
    },
    "tags": []
   },
   "source": [
    "### **7.1. Testing the Model's predictions**\n",
    "#### **Test 2**\n",
    "- Batting Team : **India**\n",
    "- Bowling Team : **Australia**\n",
    "- Final Score : **399**"
   ]
  },
  {
   "cell_type": "code",
   "execution_count": 40,
   "id": "c6f8ce6b",
   "metadata": {
    "execution": {
     "iopub.execute_input": "2023-11-27T11:45:47.945883Z",
     "iopub.status.busy": "2023-11-27T11:45:47.945391Z",
     "iopub.status.idle": "2023-11-27T11:45:47.959046Z",
     "shell.execute_reply": "2023-11-27T11:45:47.957880Z"
    },
    "id": "ad84cf87-362b-4747-91f8-9297557762fb",
    "outputId": "ba725f07-d165-40f4-ae60-c46c5ef4f56e",
    "papermill": {
     "duration": 0.040347,
     "end_time": "2023-11-27T11:45:47.961675",
     "exception": false,
     "start_time": "2023-11-27T11:45:47.921328",
     "status": "completed"
    },
    "tags": []
   },
   "outputs": [
    {
     "name": "stdout",
     "output_type": "stream",
     "text": [
      "Predicted Score : 395 || Actual Score : 399\n"
     ]
    },
    {
     "name": "stderr",
     "output_type": "stream",
     "text": [
      "/opt/conda/lib/python3.10/site-packages/sklearn/base.py:439: UserWarning: X does not have valid feature names, but RandomForestRegressor was fitted with feature names\n",
      "  warnings.warn(\n"
     ]
    }
   ],
   "source": [
    "batting_team='India'\n",
    "bowling_team='Australia'\n",
    "score = score_predict(batting_team, bowling_team, runs=308, wickets=4, overs=36.3, runs_last_5_overs= 25, wickets_last_5_overs=1)\n",
    "print(f'Predicted Score : {score} || Actual Score : 399')"
   ]
  },
  {
   "cell_type": "markdown",
   "id": "6cf63f5f",
   "metadata": {
    "id": "JssZeexxRQz4",
    "papermill": {
     "duration": 0.022338,
     "end_time": "2023-11-27T11:45:48.006619",
     "exception": false,
     "start_time": "2023-11-27T11:45:47.984281",
     "status": "completed"
    },
    "tags": []
   },
   "source": [
    "## **8.  Export Model**\n",
    "> Using **_`pickle`_** library to save the model in order to use it for prediction interface."
   ]
  },
  {
   "cell_type": "code",
   "execution_count": 41,
   "id": "b62e6702",
   "metadata": {
    "execution": {
     "iopub.execute_input": "2023-11-27T11:45:48.054911Z",
     "iopub.status.busy": "2023-11-27T11:45:48.054392Z",
     "iopub.status.idle": "2023-11-27T11:45:56.487790Z",
     "shell.execute_reply": "2023-11-27T11:45:56.486636Z"
    },
    "id": "6a90602e-818d-4faf-8aa6-6105a18e5e3b",
    "papermill": {
     "duration": 8.461319,
     "end_time": "2023-11-27T11:45:56.490638",
     "exception": false,
     "start_time": "2023-11-27T11:45:48.029319",
     "status": "completed"
    },
    "tags": []
   },
   "outputs": [],
   "source": [
    "import pickle\n",
    "filename = \"cricket_world_cup_score_prediction_model.pkl\"\n",
    "pickle.dump(forest, open(filename, \"wb\"))"
   ]
  },
  {
   "cell_type": "markdown",
   "id": "0d5388ad",
   "metadata": {
    "id": "rj7ce5KuRVlT",
    "papermill": {
     "duration": 0.022045,
     "end_time": "2023-11-27T11:45:56.534794",
     "exception": false,
     "start_time": "2023-11-27T11:45:56.512749",
     "status": "completed"
    },
    "tags": []
   },
   "source": [
    "## **Thus the Prediction model for T20i Cricket Matches is built. Thanks !!**\n",
    "\n",
    "\n",
    "---\n",
    "\n",
    "- **Built by - Abhishek Yeole**\n",
    "\n",
    "- **Purpose - ICC World Cup Cricket Match Score Prediction**\n",
    "\n",
    "- **Size of Model ~ 2.95 GB (Hashed)**\n",
    "\n",
    "- **Interface - [Hugging Face 🤗](https://abhicodes-icc-world-cup-score-predictor.hf.space)**\n"
   ]
  }
 ],
 "metadata": {
  "colab": {
   "provenance": []
  },
  "kaggle": {
   "accelerator": "none",
   "dataSources": [
    {
     "datasetId": 3780212,
     "sourceId": 6538890,
     "sourceType": "datasetVersion"
    }
   ],
   "dockerImageVersionId": 30579,
   "isGpuEnabled": false,
   "isInternetEnabled": true,
   "language": "python",
   "sourceType": "notebook"
  },
  "kernelspec": {
   "display_name": "Python 3",
   "language": "python",
   "name": "python3"
  },
  "language_info": {
   "codemirror_mode": {
    "name": "ipython",
    "version": 3
   },
   "file_extension": ".py",
   "mimetype": "text/x-python",
   "name": "python",
   "nbconvert_exporter": "python",
   "pygments_lexer": "ipython3",
   "version": "3.10.12"
  },
  "papermill": {
   "default_parameters": {},
   "duration": 995.436326,
   "end_time": "2023-11-27T11:45:59.283147",
   "environment_variables": {},
   "exception": null,
   "input_path": "__notebook__.ipynb",
   "output_path": "__notebook__.ipynb",
   "parameters": {},
   "start_time": "2023-11-27T11:29:23.846821",
   "version": "2.4.0"
  }
 },
 "nbformat": 4,
 "nbformat_minor": 5
}
